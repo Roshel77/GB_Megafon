{
 "cells": [
  {
   "cell_type": "code",
   "execution_count": 1,
   "id": "76b64dd3",
   "metadata": {},
   "outputs": [],
   "source": [
    "import numpy as np\n",
    "import pandas as pd\n",
    "import dask.dataframe as dd\n",
    "import seaborn as sns\n",
    "import pickle\n",
    "\n",
    "import matplotlib.pyplot as plt\n",
    "%matplotlib inline\n",
    "\n",
    "import warnings\n",
    "warnings.simplefilter('ignore')\n",
    "from datetime import date, datetime\n",
    "\n",
    "from sklearn.model_selection import train_test_split, GridSearchCV, KFold\n",
    "from sklearn.pipeline import make_pipeline, FeatureUnion\n",
    "from sklearn.preprocessing import StandardScaler, OneHotEncoder\n",
    "from sklearn.base import BaseEstimator, TransformerMixin\n",
    "from sklearn.impute import SimpleImputer\n",
    "from imblearn.under_sampling import RandomUnderSampler\n",
    "from sklearn.metrics import f1_score, classification_report, precision_recall_curve, roc_curve, auc, confusion_matrix\n",
    "from sklearn.feature_selection import SelectFromModel\n",
    "from sklearn.decomposition import PCA\n",
    "\n",
    "from sklearn.linear_model import LogisticRegression\n",
    "from catboost import CatBoostClassifier\n",
    "from xgboost import XGBClassifier\n",
    "from lightgbm import LGBMClassifier\n",
    "from sklearn.ensemble import RandomForestClassifier, GradientBoostingClassifier"
   ]
  },
  {
   "cell_type": "markdown",
   "id": "b6b582be",
   "metadata": {},
   "source": [
    "Загружаем данные из data_train при помощи pandas и features c помощью dask.dataframe"
   ]
  },
  {
   "cell_type": "code",
   "execution_count": 2,
   "id": "629e10e8",
   "metadata": {},
   "outputs": [
    {
     "data": {
      "text/html": [
       "<div>\n",
       "<style scoped>\n",
       "    .dataframe tbody tr th:only-of-type {\n",
       "        vertical-align: middle;\n",
       "    }\n",
       "\n",
       "    .dataframe tbody tr th {\n",
       "        vertical-align: top;\n",
       "    }\n",
       "\n",
       "    .dataframe thead th {\n",
       "        text-align: right;\n",
       "    }\n",
       "</style>\n",
       "<table border=\"1\" class=\"dataframe\">\n",
       "  <thead>\n",
       "    <tr style=\"text-align: right;\">\n",
       "      <th></th>\n",
       "      <th>Unnamed: 0</th>\n",
       "      <th>id</th>\n",
       "      <th>vas_id</th>\n",
       "      <th>buy_time</th>\n",
       "      <th>target</th>\n",
       "    </tr>\n",
       "  </thead>\n",
       "  <tbody>\n",
       "    <tr>\n",
       "      <th>0</th>\n",
       "      <td>0</td>\n",
       "      <td>540968</td>\n",
       "      <td>8.0</td>\n",
       "      <td>1537131600</td>\n",
       "      <td>0.0</td>\n",
       "    </tr>\n",
       "    <tr>\n",
       "      <th>1</th>\n",
       "      <td>1</td>\n",
       "      <td>1454121</td>\n",
       "      <td>4.0</td>\n",
       "      <td>1531688400</td>\n",
       "      <td>0.0</td>\n",
       "    </tr>\n",
       "    <tr>\n",
       "      <th>2</th>\n",
       "      <td>2</td>\n",
       "      <td>2458816</td>\n",
       "      <td>1.0</td>\n",
       "      <td>1534107600</td>\n",
       "      <td>0.0</td>\n",
       "    </tr>\n",
       "    <tr>\n",
       "      <th>3</th>\n",
       "      <td>3</td>\n",
       "      <td>3535012</td>\n",
       "      <td>5.0</td>\n",
       "      <td>1535922000</td>\n",
       "      <td>0.0</td>\n",
       "    </tr>\n",
       "  </tbody>\n",
       "</table>\n",
       "</div>"
      ],
      "text/plain": [
       "   Unnamed: 0       id  vas_id    buy_time  target\n",
       "0           0   540968     8.0  1537131600     0.0\n",
       "1           1  1454121     4.0  1531688400     0.0\n",
       "2           2  2458816     1.0  1534107600     0.0\n",
       "3           3  3535012     5.0  1535922000     0.0"
      ]
     },
     "execution_count": 2,
     "metadata": {},
     "output_type": "execute_result"
    }
   ],
   "source": [
    "data_train = pd.read_csv('data_train.csv')\n",
    "data_train.head(4)"
   ]
  },
  {
   "cell_type": "code",
   "execution_count": 3,
   "id": "6851553d",
   "metadata": {},
   "outputs": [],
   "source": [
    "data_train = data_train.drop('Unnamed: 0', axis=1)"
   ]
  },
  {
   "cell_type": "code",
   "execution_count": 4,
   "id": "6c3d663d",
   "metadata": {},
   "outputs": [
    {
     "data": {
      "text/html": [
       "<div>\n",
       "<style scoped>\n",
       "    .dataframe tbody tr th:only-of-type {\n",
       "        vertical-align: middle;\n",
       "    }\n",
       "\n",
       "    .dataframe tbody tr th {\n",
       "        vertical-align: top;\n",
       "    }\n",
       "\n",
       "    .dataframe thead th {\n",
       "        text-align: right;\n",
       "    }\n",
       "</style>\n",
       "<table border=\"1\" class=\"dataframe\">\n",
       "  <thead>\n",
       "    <tr style=\"text-align: right;\">\n",
       "      <th></th>\n",
       "      <th>Unnamed: 0</th>\n",
       "      <th>id</th>\n",
       "      <th>buy_time</th>\n",
       "      <th>0</th>\n",
       "      <th>1</th>\n",
       "      <th>2</th>\n",
       "      <th>3</th>\n",
       "      <th>4</th>\n",
       "      <th>5</th>\n",
       "      <th>6</th>\n",
       "      <th>...</th>\n",
       "      <th>243</th>\n",
       "      <th>244</th>\n",
       "      <th>245</th>\n",
       "      <th>246</th>\n",
       "      <th>247</th>\n",
       "      <th>248</th>\n",
       "      <th>249</th>\n",
       "      <th>250</th>\n",
       "      <th>251</th>\n",
       "      <th>252</th>\n",
       "    </tr>\n",
       "  </thead>\n",
       "  <tbody>\n",
       "    <tr>\n",
       "      <th>0</th>\n",
       "      <td>0</td>\n",
       "      <td>2013026</td>\n",
       "      <td>1531688400</td>\n",
       "      <td>18.910029</td>\n",
       "      <td>46.980888</td>\n",
       "      <td>4.969214</td>\n",
       "      <td>-1.386798</td>\n",
       "      <td>3.791754</td>\n",
       "      <td>-14.01179</td>\n",
       "      <td>-16.08618</td>\n",
       "      <td>...</td>\n",
       "      <td>-977.373846</td>\n",
       "      <td>-613.770792</td>\n",
       "      <td>-25.996269</td>\n",
       "      <td>-37.630448</td>\n",
       "      <td>-301.747724</td>\n",
       "      <td>-25.832889</td>\n",
       "      <td>-0.694428</td>\n",
       "      <td>-12.175933</td>\n",
       "      <td>-0.45614</td>\n",
       "      <td>0.0</td>\n",
       "    </tr>\n",
       "    <tr>\n",
       "      <th>1</th>\n",
       "      <td>1</td>\n",
       "      <td>2014722</td>\n",
       "      <td>1539550800</td>\n",
       "      <td>36.690029</td>\n",
       "      <td>152.400888</td>\n",
       "      <td>448.069214</td>\n",
       "      <td>563.833202</td>\n",
       "      <td>463.841754</td>\n",
       "      <td>568.99821</td>\n",
       "      <td>-16.08618</td>\n",
       "      <td>...</td>\n",
       "      <td>-891.373846</td>\n",
       "      <td>-544.770792</td>\n",
       "      <td>-20.996269</td>\n",
       "      <td>48.369552</td>\n",
       "      <td>80.252276</td>\n",
       "      <td>-13.832889</td>\n",
       "      <td>-0.694428</td>\n",
       "      <td>-1.175933</td>\n",
       "      <td>-0.45614</td>\n",
       "      <td>0.0</td>\n",
       "    </tr>\n",
       "    <tr>\n",
       "      <th>2</th>\n",
       "      <td>2</td>\n",
       "      <td>2015199</td>\n",
       "      <td>1545598800</td>\n",
       "      <td>-67.019971</td>\n",
       "      <td>157.050888</td>\n",
       "      <td>-63.180786</td>\n",
       "      <td>178.103202</td>\n",
       "      <td>-68.598246</td>\n",
       "      <td>156.99821</td>\n",
       "      <td>3.51382</td>\n",
       "      <td>...</td>\n",
       "      <td>-977.373846</td>\n",
       "      <td>-613.770792</td>\n",
       "      <td>-12.996269</td>\n",
       "      <td>-37.630448</td>\n",
       "      <td>10829.252276</td>\n",
       "      <td>-25.832889</td>\n",
       "      <td>-0.694428</td>\n",
       "      <td>-12.175933</td>\n",
       "      <td>-0.45614</td>\n",
       "      <td>0.0</td>\n",
       "    </tr>\n",
       "    <tr>\n",
       "      <th>3</th>\n",
       "      <td>3</td>\n",
       "      <td>2021765</td>\n",
       "      <td>1534107600</td>\n",
       "      <td>7.010029</td>\n",
       "      <td>150.200888</td>\n",
       "      <td>-6.930786</td>\n",
       "      <td>216.213202</td>\n",
       "      <td>76.621754</td>\n",
       "      <td>351.84821</td>\n",
       "      <td>-16.08618</td>\n",
       "      <td>...</td>\n",
       "      <td>-973.373846</td>\n",
       "      <td>-613.770792</td>\n",
       "      <td>-23.996269</td>\n",
       "      <td>-37.630448</td>\n",
       "      <td>-205.747724</td>\n",
       "      <td>-24.832889</td>\n",
       "      <td>-0.694428</td>\n",
       "      <td>-11.175933</td>\n",
       "      <td>-0.45614</td>\n",
       "      <td>1.0</td>\n",
       "    </tr>\n",
       "  </tbody>\n",
       "</table>\n",
       "<p>4 rows × 256 columns</p>\n",
       "</div>"
      ],
      "text/plain": [
       "   Unnamed: 0       id    buy_time          0           1           2  \\\n",
       "0           0  2013026  1531688400  18.910029   46.980888    4.969214   \n",
       "1           1  2014722  1539550800  36.690029  152.400888  448.069214   \n",
       "2           2  2015199  1545598800 -67.019971  157.050888  -63.180786   \n",
       "3           3  2021765  1534107600   7.010029  150.200888   -6.930786   \n",
       "\n",
       "            3           4          5         6  ...         243         244  \\\n",
       "0   -1.386798    3.791754  -14.01179 -16.08618  ... -977.373846 -613.770792   \n",
       "1  563.833202  463.841754  568.99821 -16.08618  ... -891.373846 -544.770792   \n",
       "2  178.103202  -68.598246  156.99821   3.51382  ... -977.373846 -613.770792   \n",
       "3  216.213202   76.621754  351.84821 -16.08618  ... -973.373846 -613.770792   \n",
       "\n",
       "         245        246           247        248       249        250  \\\n",
       "0 -25.996269 -37.630448   -301.747724 -25.832889 -0.694428 -12.175933   \n",
       "1 -20.996269  48.369552     80.252276 -13.832889 -0.694428  -1.175933   \n",
       "2 -12.996269 -37.630448  10829.252276 -25.832889 -0.694428 -12.175933   \n",
       "3 -23.996269 -37.630448   -205.747724 -24.832889 -0.694428 -11.175933   \n",
       "\n",
       "       251  252  \n",
       "0 -0.45614  0.0  \n",
       "1 -0.45614  0.0  \n",
       "2 -0.45614  0.0  \n",
       "3 -0.45614  1.0  \n",
       "\n",
       "[4 rows x 256 columns]"
      ]
     },
     "execution_count": 4,
     "metadata": {},
     "output_type": "execute_result"
    }
   ],
   "source": [
    "features = dd.read_csv('features.csv', sep='\\t')\n",
    "features.head(4)"
   ]
  },
  {
   "cell_type": "code",
   "execution_count": 5,
   "id": "c1486e9d",
   "metadata": {},
   "outputs": [],
   "source": [
    "features = features.drop('Unnamed: 0', axis=1)"
   ]
  },
  {
   "cell_type": "markdown",
   "id": "45941ec0",
   "metadata": {},
   "source": [
    "## Обработка данных из data_train"
   ]
  },
  {
   "cell_type": "markdown",
   "id": "815dac4a",
   "metadata": {},
   "source": [
    "Новый признак date будет содержать данные из buy_time в удобном формате"
   ]
  },
  {
   "cell_type": "code",
   "execution_count": 6,
   "id": "4a8c3660",
   "metadata": {},
   "outputs": [
    {
     "data": {
      "text/html": [
       "<div>\n",
       "<style scoped>\n",
       "    .dataframe tbody tr th:only-of-type {\n",
       "        vertical-align: middle;\n",
       "    }\n",
       "\n",
       "    .dataframe tbody tr th {\n",
       "        vertical-align: top;\n",
       "    }\n",
       "\n",
       "    .dataframe thead th {\n",
       "        text-align: right;\n",
       "    }\n",
       "</style>\n",
       "<table border=\"1\" class=\"dataframe\">\n",
       "  <thead>\n",
       "    <tr style=\"text-align: right;\">\n",
       "      <th></th>\n",
       "      <th>id</th>\n",
       "      <th>vas_id</th>\n",
       "      <th>buy_time</th>\n",
       "      <th>target</th>\n",
       "      <th>date</th>\n",
       "    </tr>\n",
       "  </thead>\n",
       "  <tbody>\n",
       "    <tr>\n",
       "      <th>0</th>\n",
       "      <td>540968</td>\n",
       "      <td>8.0</td>\n",
       "      <td>1537131600</td>\n",
       "      <td>0.0</td>\n",
       "      <td>2018-09-17</td>\n",
       "    </tr>\n",
       "    <tr>\n",
       "      <th>1</th>\n",
       "      <td>1454121</td>\n",
       "      <td>4.0</td>\n",
       "      <td>1531688400</td>\n",
       "      <td>0.0</td>\n",
       "      <td>2018-07-16</td>\n",
       "    </tr>\n",
       "    <tr>\n",
       "      <th>2</th>\n",
       "      <td>2458816</td>\n",
       "      <td>1.0</td>\n",
       "      <td>1534107600</td>\n",
       "      <td>0.0</td>\n",
       "      <td>2018-08-13</td>\n",
       "    </tr>\n",
       "    <tr>\n",
       "      <th>3</th>\n",
       "      <td>3535012</td>\n",
       "      <td>5.0</td>\n",
       "      <td>1535922000</td>\n",
       "      <td>0.0</td>\n",
       "      <td>2018-09-03</td>\n",
       "    </tr>\n",
       "  </tbody>\n",
       "</table>\n",
       "</div>"
      ],
      "text/plain": [
       "        id  vas_id    buy_time  target        date\n",
       "0   540968     8.0  1537131600     0.0  2018-09-17\n",
       "1  1454121     4.0  1531688400     0.0  2018-07-16\n",
       "2  2458816     1.0  1534107600     0.0  2018-08-13\n",
       "3  3535012     5.0  1535922000     0.0  2018-09-03"
      ]
     },
     "execution_count": 6,
     "metadata": {},
     "output_type": "execute_result"
    }
   ],
   "source": [
    "data_train['date'] = data_train['buy_time'].apply(lambda x: date.fromtimestamp(x))\n",
    "data_train.head(4)"
   ]
  },
  {
   "cell_type": "code",
   "execution_count": 7,
   "id": "9b9a48bb",
   "metadata": {},
   "outputs": [
    {
     "name": "stdout",
     "output_type": "stream",
     "text": [
      "<class 'pandas.core.frame.DataFrame'>\n",
      "RangeIndex: 831653 entries, 0 to 831652\n",
      "Data columns (total 5 columns):\n",
      " #   Column    Non-Null Count   Dtype  \n",
      "---  ------    --------------   -----  \n",
      " 0   id        831653 non-null  int64  \n",
      " 1   vas_id    831653 non-null  float64\n",
      " 2   buy_time  831653 non-null  int64  \n",
      " 3   target    831653 non-null  float64\n",
      " 4   date      831653 non-null  object \n",
      "dtypes: float64(2), int64(2), object(1)\n",
      "memory usage: 31.7+ MB\n"
     ]
    }
   ],
   "source": [
    "data_train.info()"
   ]
  },
  {
   "cell_type": "code",
   "execution_count": 8,
   "id": "3e1ca741",
   "metadata": {},
   "outputs": [
    {
     "name": "stdout",
     "output_type": "stream",
     "text": [
      "Первое предложение: 2018-07-09 Последнее предложение: 2018-12-31\n"
     ]
    }
   ],
   "source": [
    "print(f'Первое предложение: {data_train[\"date\"].min()} Последнее предложение: {data_train[\"date\"].max()}')"
   ]
  },
  {
   "cell_type": "code",
   "execution_count": 9,
   "id": "08c10385",
   "metadata": {},
   "outputs": [
    {
     "data": {
      "text/plain": [
       "1347260    3\n",
       "17679      3\n",
       "340716     3\n",
       "1596002    3\n",
       "1195576    3\n",
       "          ..\n",
       "1934276    1\n",
       "4340166    1\n",
       "2891727    1\n",
       "66499      1\n",
       "3022610    1\n",
       "Name: id, Length: 806613, dtype: int64"
      ]
     },
     "execution_count": 9,
     "metadata": {},
     "output_type": "execute_result"
    }
   ],
   "source": [
    "# пользователи, которым предлагали подключение услуг больше 1 раза\n",
    "data_train['id'].value_counts().sort_values(ascending=False)"
   ]
  },
  {
   "cell_type": "code",
   "execution_count": 10,
   "id": "84b8f454",
   "metadata": {},
   "outputs": [
    {
     "data": {
      "image/png": "[encoded data removed]",
      "text/plain": [
       "<Figure size 1152x432 with 1 Axes>"
      ]
     },
     "metadata": {
      "needs_background": "light"
     },
     "output_type": "display_data"
    }
   ],
   "source": [
    "plt.figure(figsize=(16, 6))\n",
    "plt.hist(data_train.loc[(data_train['target']==0, 'date')], bins=50)\n",
    "plt.hist(data_train.loc[(data_train['target']==1, 'date')], bins=50)\n",
    "plt.show();"
   ]
  },
  {
   "cell_type": "markdown",
   "id": "0967b87c",
   "metadata": {},
   "source": [
    "В ноябре количество пользователей подключивших услуг превышает тех, кто от нее отказался.\n",
    "В ноябре и декабре наибольшее количество положительных откликов на подключение услуг."
   ]
  },
  {
   "cell_type": "code",
   "execution_count": 11,
   "id": "ea1f6141",
   "metadata": {},
   "outputs": [
    {
     "data": {
      "image/png": "[encoded data removed]",
      "text/plain": [
       "<Figure size 1152x576 with 1 Axes>"
      ]
     },
     "metadata": {
      "needs_background": "light"
     },
     "output_type": "display_data"
    }
   ],
   "source": [
    "plt.figure(figsize=(16, 8))\n",
    "for i in sorted(list(data_train['vas_id'].unique())):\n",
    "    plt.plot(data_train.loc[(data_train['vas_id'] == i, 'date') ].value_counts().sort_index(), label=i)\n",
    "plt.hist(data_train.loc[(data_train['target'] == 1, 'date') ], bins=50)\n",
    "plt.legend()\n",
    "plt.show();"
   ]
  },
  {
   "cell_type": "markdown",
   "id": "c7ec2444",
   "metadata": {},
   "source": [
    "Услуги 1 и 2 в начале года предлагались чаще всего, но постепенно предложение падало, а в декабре произошёл резкий скачок предложения услуг 1, 2, 5 и 6, при этом предложение по услуге 4 пошло на резкий спад."
   ]
  },
  {
   "cell_type": "markdown",
   "id": "a1e3a3b0",
   "metadata": {},
   "source": [
    "### Целевая переменная"
   ]
  },
  {
   "cell_type": "code",
   "execution_count": 12,
   "id": "c2f6f8fc",
   "metadata": {},
   "outputs": [
    {
     "data": {
      "image/png": "[encoded data removed]",
      "text/plain": [
       "<Figure size 720x288 with 1 Axes>"
      ]
     },
     "metadata": {
      "needs_background": "light"
     },
     "output_type": "display_data"
    }
   ],
   "source": [
    "plt.figure(figsize=(10, 4))\n",
    "sns.countplot(x='target', data=data_train)\n",
    "plt.title('Распределение целевой переменной')\n",
    "plt.show()"
   ]
  },
  {
   "cell_type": "markdown",
   "id": "13fcef4d",
   "metadata": {},
   "source": [
    "Наблюдается сильный дисбаланс"
   ]
  },
  {
   "cell_type": "markdown",
   "id": "a1897f89",
   "metadata": {},
   "source": [
    "### Объединение data_train с features"
   ]
  },
  {
   "cell_type": "code",
   "execution_count": 13,
   "id": "62e8f739",
   "metadata": {},
   "outputs": [],
   "source": [
    "# удалим из features тех пользователей, которых нет в data_train\n",
    "ids = data_train['id'].unique()\n",
    "features = features.compute()\n",
    "features = features.loc[(features['id'].isin(ids))]"
   ]
  },
  {
   "cell_type": "code",
   "execution_count": 14,
   "id": "3ae17b61",
   "metadata": {},
   "outputs": [
    {
     "data": {
      "text/html": [
       "<div>\n",
       "<style scoped>\n",
       "    .dataframe tbody tr th:only-of-type {\n",
       "        vertical-align: middle;\n",
       "    }\n",
       "\n",
       "    .dataframe tbody tr th {\n",
       "        vertical-align: top;\n",
       "    }\n",
       "\n",
       "    .dataframe thead th {\n",
       "        text-align: right;\n",
       "    }\n",
       "</style>\n",
       "<table border=\"1\" class=\"dataframe\">\n",
       "  <thead>\n",
       "    <tr style=\"text-align: right;\">\n",
       "      <th></th>\n",
       "      <th>id</th>\n",
       "      <th>buy_time</th>\n",
       "      <th>0</th>\n",
       "      <th>1</th>\n",
       "      <th>2</th>\n",
       "      <th>3</th>\n",
       "      <th>4</th>\n",
       "      <th>5</th>\n",
       "      <th>6</th>\n",
       "      <th>7</th>\n",
       "      <th>...</th>\n",
       "      <th>243</th>\n",
       "      <th>244</th>\n",
       "      <th>245</th>\n",
       "      <th>246</th>\n",
       "      <th>247</th>\n",
       "      <th>248</th>\n",
       "      <th>249</th>\n",
       "      <th>250</th>\n",
       "      <th>251</th>\n",
       "      <th>252</th>\n",
       "    </tr>\n",
       "  </thead>\n",
       "  <tbody>\n",
       "    <tr>\n",
       "      <th>13</th>\n",
       "      <td>2046132</td>\n",
       "      <td>1534712400</td>\n",
       "      <td>300.820029</td>\n",
       "      <td>1599.480888</td>\n",
       "      <td>286.879214</td>\n",
       "      <td>1585.013202</td>\n",
       "      <td>281.461754</td>\n",
       "      <td>1563.90821</td>\n",
       "      <td>-16.08618</td>\n",
       "      <td>654.013903</td>\n",
       "      <td>...</td>\n",
       "      <td>-977.373846</td>\n",
       "      <td>-613.770792</td>\n",
       "      <td>-25.996269</td>\n",
       "      <td>-35.630448</td>\n",
       "      <td>-295.747724</td>\n",
       "      <td>-17.832889</td>\n",
       "      <td>-0.694428</td>\n",
       "      <td>-4.175933</td>\n",
       "      <td>-0.45614</td>\n",
       "      <td>0.0</td>\n",
       "    </tr>\n",
       "    <tr>\n",
       "      <th>16</th>\n",
       "      <td>2050810</td>\n",
       "      <td>1540760400</td>\n",
       "      <td>-86.209971</td>\n",
       "      <td>91.820888</td>\n",
       "      <td>-84.480786</td>\n",
       "      <td>110.333202</td>\n",
       "      <td>-89.898246</td>\n",
       "      <td>89.22821</td>\n",
       "      <td>-16.08618</td>\n",
       "      <td>-65.076097</td>\n",
       "      <td>...</td>\n",
       "      <td>-977.373846</td>\n",
       "      <td>-613.770792</td>\n",
       "      <td>-23.996269</td>\n",
       "      <td>190.369552</td>\n",
       "      <td>-286.747724</td>\n",
       "      <td>-25.832889</td>\n",
       "      <td>-0.694428</td>\n",
       "      <td>-12.175933</td>\n",
       "      <td>-0.45614</td>\n",
       "      <td>0.0</td>\n",
       "    </tr>\n",
       "    <tr>\n",
       "      <th>19</th>\n",
       "      <td>2070757</td>\n",
       "      <td>1540760400</td>\n",
       "      <td>-96.799971</td>\n",
       "      <td>-408.179112</td>\n",
       "      <td>-110.740786</td>\n",
       "      <td>-460.786798</td>\n",
       "      <td>-114.038246</td>\n",
       "      <td>-479.77179</td>\n",
       "      <td>-16.08618</td>\n",
       "      <td>-65.076097</td>\n",
       "      <td>...</td>\n",
       "      <td>-925.373846</td>\n",
       "      <td>-561.770792</td>\n",
       "      <td>-21.996269</td>\n",
       "      <td>-37.630448</td>\n",
       "      <td>-151.747724</td>\n",
       "      <td>-24.832889</td>\n",
       "      <td>0.305572</td>\n",
       "      <td>-12.175933</td>\n",
       "      <td>-0.45614</td>\n",
       "      <td>1.0</td>\n",
       "    </tr>\n",
       "    <tr>\n",
       "      <th>20</th>\n",
       "      <td>2071522</td>\n",
       "      <td>1544994000</td>\n",
       "      <td>-94.939971</td>\n",
       "      <td>-363.699112</td>\n",
       "      <td>-108.880786</td>\n",
       "      <td>-411.226798</td>\n",
       "      <td>-114.298246</td>\n",
       "      <td>-432.33179</td>\n",
       "      <td>-16.08618</td>\n",
       "      <td>-65.076097</td>\n",
       "      <td>...</td>\n",
       "      <td>-977.373846</td>\n",
       "      <td>-613.770792</td>\n",
       "      <td>-25.996269</td>\n",
       "      <td>-37.630448</td>\n",
       "      <td>-306.747724</td>\n",
       "      <td>-25.832889</td>\n",
       "      <td>-0.694428</td>\n",
       "      <td>-12.175933</td>\n",
       "      <td>-0.45614</td>\n",
       "      <td>0.0</td>\n",
       "    </tr>\n",
       "  </tbody>\n",
       "</table>\n",
       "<p>4 rows × 255 columns</p>\n",
       "</div>"
      ],
      "text/plain": [
       "         id    buy_time           0            1           2            3  \\\n",
       "13  2046132  1534712400  300.820029  1599.480888  286.879214  1585.013202   \n",
       "16  2050810  1540760400  -86.209971    91.820888  -84.480786   110.333202   \n",
       "19  2070757  1540760400  -96.799971  -408.179112 -110.740786  -460.786798   \n",
       "20  2071522  1544994000  -94.939971  -363.699112 -108.880786  -411.226798   \n",
       "\n",
       "             4           5         6           7  ...         243         244  \\\n",
       "13  281.461754  1563.90821 -16.08618  654.013903  ... -977.373846 -613.770792   \n",
       "16  -89.898246    89.22821 -16.08618  -65.076097  ... -977.373846 -613.770792   \n",
       "19 -114.038246  -479.77179 -16.08618  -65.076097  ... -925.373846 -561.770792   \n",
       "20 -114.298246  -432.33179 -16.08618  -65.076097  ... -977.373846 -613.770792   \n",
       "\n",
       "          245         246         247        248       249        250  \\\n",
       "13 -25.996269  -35.630448 -295.747724 -17.832889 -0.694428  -4.175933   \n",
       "16 -23.996269  190.369552 -286.747724 -25.832889 -0.694428 -12.175933   \n",
       "19 -21.996269  -37.630448 -151.747724 -24.832889  0.305572 -12.175933   \n",
       "20 -25.996269  -37.630448 -306.747724 -25.832889 -0.694428 -12.175933   \n",
       "\n",
       "        251  252  \n",
       "13 -0.45614  0.0  \n",
       "16 -0.45614  0.0  \n",
       "19 -0.45614  1.0  \n",
       "20 -0.45614  0.0  \n",
       "\n",
       "[4 rows x 255 columns]"
      ]
     },
     "execution_count": 14,
     "metadata": {},
     "output_type": "execute_result"
    }
   ],
   "source": [
    "features.head(4)"
   ]
  },
  {
   "cell_type": "code",
   "execution_count": 15,
   "id": "edd374ca",
   "metadata": {},
   "outputs": [],
   "source": [
    "# отсортируем данные по признаку buy_time\n",
    "data_train = data_train.sort_index().sort_values(by='buy_time')\n",
    "features = features.sort_values(by='buy_time')"
   ]
  },
  {
   "cell_type": "code",
   "execution_count": 16,
   "id": "e2a5c0fa",
   "metadata": {},
   "outputs": [],
   "source": [
    "data_train = pd.merge_asof(data_train, features, on='buy_time', by='id', direction='nearest')"
   ]
  },
  {
   "cell_type": "markdown",
   "id": "7c0f9c52",
   "metadata": {},
   "source": [
    "Выделим день, неделю и месяц предложения услуг в отдельные признаки"
   ]
  },
  {
   "cell_type": "code",
   "execution_count": 17,
   "id": "6242b3b7",
   "metadata": {},
   "outputs": [],
   "source": [
    "data_train['day'] = data_train['date'].apply(lambda x: pd.to_datetime(x).day)\n",
    "data_train['week'] = data_train['date'].apply(lambda x: pd.to_datetime(x).day // 7)\n",
    "data_train['month'] = data_train['date'].apply(lambda x: pd.to_datetime(x).month)"
   ]
  },
  {
   "cell_type": "code",
   "execution_count": 18,
   "id": "91051e04",
   "metadata": {},
   "outputs": [],
   "source": [
    "data_train = data_train.drop('buy_time', axis=1)\n",
    "data_train = data_train.drop('date', axis=1)"
   ]
  },
  {
   "cell_type": "code",
   "execution_count": 19,
   "id": "799eaf80",
   "metadata": {},
   "outputs": [],
   "source": [
    "data_train[data_train.select_dtypes(np.float64).columns] = data_train.select_dtypes(np.float64).astype(np.float32)"
   ]
  },
  {
   "cell_type": "code",
   "execution_count": 20,
   "id": "323aa07c",
   "metadata": {},
   "outputs": [
    {
     "name": "stdout",
     "output_type": "stream",
     "text": [
      "<class 'pandas.core.frame.DataFrame'>\n",
      "Int64Index: 831653 entries, 0 to 831652\n",
      "Columns: 259 entries, id to month\n",
      "dtypes: float32(255), int64(4)\n",
      "memory usage: 840.7 MB\n"
     ]
    }
   ],
   "source": [
    "data_train.info()"
   ]
  },
  {
   "cell_type": "code",
   "execution_count": 21,
   "id": "8c897baa",
   "metadata": {},
   "outputs": [
    {
     "data": {
      "text/html": [
       "<div>\n",
       "<style scoped>\n",
       "    .dataframe tbody tr th:only-of-type {\n",
       "        vertical-align: middle;\n",
       "    }\n",
       "\n",
       "    .dataframe tbody tr th {\n",
       "        vertical-align: top;\n",
       "    }\n",
       "\n",
       "    .dataframe thead th {\n",
       "        text-align: right;\n",
       "    }\n",
       "</style>\n",
       "<table border=\"1\" class=\"dataframe\">\n",
       "  <thead>\n",
       "    <tr style=\"text-align: right;\">\n",
       "      <th></th>\n",
       "      <th>id</th>\n",
       "      <th>vas_id</th>\n",
       "      <th>target</th>\n",
       "      <th>0</th>\n",
       "      <th>1</th>\n",
       "      <th>2</th>\n",
       "      <th>3</th>\n",
       "      <th>4</th>\n",
       "      <th>5</th>\n",
       "      <th>6</th>\n",
       "      <th>...</th>\n",
       "      <th>246</th>\n",
       "      <th>247</th>\n",
       "      <th>248</th>\n",
       "      <th>249</th>\n",
       "      <th>250</th>\n",
       "      <th>251</th>\n",
       "      <th>252</th>\n",
       "      <th>day</th>\n",
       "      <th>week</th>\n",
       "      <th>month</th>\n",
       "    </tr>\n",
       "  </thead>\n",
       "  <tbody>\n",
       "    <tr>\n",
       "      <th>0</th>\n",
       "      <td>2582523</td>\n",
       "      <td>2.0</td>\n",
       "      <td>0.0</td>\n",
       "      <td>314.560028</td>\n",
       "      <td>9.290888</td>\n",
       "      <td>342.989227</td>\n",
       "      <td>7.523202</td>\n",
       "      <td>337.571747</td>\n",
       "      <td>-13.581790</td>\n",
       "      <td>-16.08618</td>\n",
       "      <td>...</td>\n",
       "      <td>121.369553</td>\n",
       "      <td>142.252274</td>\n",
       "      <td>-16.832888</td>\n",
       "      <td>-0.694429</td>\n",
       "      <td>-11.175933</td>\n",
       "      <td>-0.45614</td>\n",
       "      <td>0.0</td>\n",
       "      <td>9</td>\n",
       "      <td>1</td>\n",
       "      <td>7</td>\n",
       "    </tr>\n",
       "    <tr>\n",
       "      <th>1</th>\n",
       "      <td>1292549</td>\n",
       "      <td>2.0</td>\n",
       "      <td>0.0</td>\n",
       "      <td>93.880028</td>\n",
       "      <td>-217.499115</td>\n",
       "      <td>79.939217</td>\n",
       "      <td>-270.106812</td>\n",
       "      <td>74.521751</td>\n",
       "      <td>-291.211792</td>\n",
       "      <td>-16.08618</td>\n",
       "      <td>...</td>\n",
       "      <td>-37.630447</td>\n",
       "      <td>-306.747711</td>\n",
       "      <td>-25.832888</td>\n",
       "      <td>-0.694429</td>\n",
       "      <td>-12.175933</td>\n",
       "      <td>-0.45614</td>\n",
       "      <td>0.0</td>\n",
       "      <td>9</td>\n",
       "      <td>1</td>\n",
       "      <td>7</td>\n",
       "    </tr>\n",
       "    <tr>\n",
       "      <th>2</th>\n",
       "      <td>4053116</td>\n",
       "      <td>1.0</td>\n",
       "      <td>0.0</td>\n",
       "      <td>125.110031</td>\n",
       "      <td>152.190887</td>\n",
       "      <td>111.169212</td>\n",
       "      <td>107.213203</td>\n",
       "      <td>105.751755</td>\n",
       "      <td>86.108208</td>\n",
       "      <td>-16.08618</td>\n",
       "      <td>...</td>\n",
       "      <td>761.369568</td>\n",
       "      <td>-213.747726</td>\n",
       "      <td>26.167112</td>\n",
       "      <td>-0.694429</td>\n",
       "      <td>39.824066</td>\n",
       "      <td>-0.45614</td>\n",
       "      <td>1.0</td>\n",
       "      <td>9</td>\n",
       "      <td>1</td>\n",
       "      <td>7</td>\n",
       "    </tr>\n",
       "    <tr>\n",
       "      <th>3</th>\n",
       "      <td>4158361</td>\n",
       "      <td>2.0</td>\n",
       "      <td>0.0</td>\n",
       "      <td>-7.829971</td>\n",
       "      <td>-266.839111</td>\n",
       "      <td>-20.500786</td>\n",
       "      <td>-304.196808</td>\n",
       "      <td>-25.918247</td>\n",
       "      <td>-325.301788</td>\n",
       "      <td>-16.08618</td>\n",
       "      <td>...</td>\n",
       "      <td>-37.630447</td>\n",
       "      <td>-108.747726</td>\n",
       "      <td>-25.832888</td>\n",
       "      <td>-0.694429</td>\n",
       "      <td>-12.175933</td>\n",
       "      <td>-0.45614</td>\n",
       "      <td>1.0</td>\n",
       "      <td>9</td>\n",
       "      <td>1</td>\n",
       "      <td>7</td>\n",
       "    </tr>\n",
       "  </tbody>\n",
       "</table>\n",
       "<p>4 rows × 259 columns</p>\n",
       "</div>"
      ],
      "text/plain": [
       "        id  vas_id  target           0           1           2           3  \\\n",
       "0  2582523     2.0     0.0  314.560028    9.290888  342.989227    7.523202   \n",
       "1  1292549     2.0     0.0   93.880028 -217.499115   79.939217 -270.106812   \n",
       "2  4053116     1.0     0.0  125.110031  152.190887  111.169212  107.213203   \n",
       "3  4158361     2.0     0.0   -7.829971 -266.839111  -20.500786 -304.196808   \n",
       "\n",
       "            4           5         6  ...         246         247        248  \\\n",
       "0  337.571747  -13.581790 -16.08618  ...  121.369553  142.252274 -16.832888   \n",
       "1   74.521751 -291.211792 -16.08618  ...  -37.630447 -306.747711 -25.832888   \n",
       "2  105.751755   86.108208 -16.08618  ...  761.369568 -213.747726  26.167112   \n",
       "3  -25.918247 -325.301788 -16.08618  ...  -37.630447 -108.747726 -25.832888   \n",
       "\n",
       "        249        250      251  252  day  week  month  \n",
       "0 -0.694429 -11.175933 -0.45614  0.0    9     1      7  \n",
       "1 -0.694429 -12.175933 -0.45614  0.0    9     1      7  \n",
       "2 -0.694429  39.824066 -0.45614  1.0    9     1      7  \n",
       "3 -0.694429 -12.175933 -0.45614  1.0    9     1      7  \n",
       "\n",
       "[4 rows x 259 columns]"
      ]
     },
     "execution_count": 21,
     "metadata": {},
     "output_type": "execute_result"
    }
   ],
   "source": [
    "data_train.head(4)"
   ]
  },
  {
   "cell_type": "code",
   "execution_count": 22,
   "id": "f630e8c3",
   "metadata": {},
   "outputs": [],
   "source": [
    "data_train.to_csv('train_data_features.csv', index=False)"
   ]
  },
  {
   "cell_type": "markdown",
   "id": "1dfb3d7a",
   "metadata": {},
   "source": [
    "## Обработка данных из data_test"
   ]
  },
  {
   "cell_type": "code",
   "execution_count": 23,
   "id": "0c4366fe",
   "metadata": {},
   "outputs": [
    {
     "data": {
      "text/html": [
       "<div>\n",
       "<style scoped>\n",
       "    .dataframe tbody tr th:only-of-type {\n",
       "        vertical-align: middle;\n",
       "    }\n",
       "\n",
       "    .dataframe tbody tr th {\n",
       "        vertical-align: top;\n",
       "    }\n",
       "\n",
       "    .dataframe thead th {\n",
       "        text-align: right;\n",
       "    }\n",
       "</style>\n",
       "<table border=\"1\" class=\"dataframe\">\n",
       "  <thead>\n",
       "    <tr style=\"text-align: right;\">\n",
       "      <th></th>\n",
       "      <th>id</th>\n",
       "      <th>vas_id</th>\n",
       "      <th>buy_time</th>\n",
       "      <th>date</th>\n",
       "    </tr>\n",
       "  </thead>\n",
       "  <tbody>\n",
       "    <tr>\n",
       "      <th>0</th>\n",
       "      <td>3130519</td>\n",
       "      <td>2.0</td>\n",
       "      <td>1548018000</td>\n",
       "      <td>2019-01-21</td>\n",
       "    </tr>\n",
       "    <tr>\n",
       "      <th>1</th>\n",
       "      <td>2000860</td>\n",
       "      <td>4.0</td>\n",
       "      <td>1548018000</td>\n",
       "      <td>2019-01-21</td>\n",
       "    </tr>\n",
       "    <tr>\n",
       "      <th>2</th>\n",
       "      <td>1099444</td>\n",
       "      <td>2.0</td>\n",
       "      <td>1546808400</td>\n",
       "      <td>2019-01-07</td>\n",
       "    </tr>\n",
       "    <tr>\n",
       "      <th>3</th>\n",
       "      <td>1343255</td>\n",
       "      <td>5.0</td>\n",
       "      <td>1547413200</td>\n",
       "      <td>2019-01-14</td>\n",
       "    </tr>\n",
       "  </tbody>\n",
       "</table>\n",
       "</div>"
      ],
      "text/plain": [
       "        id  vas_id    buy_time        date\n",
       "0  3130519     2.0  1548018000  2019-01-21\n",
       "1  2000860     4.0  1548018000  2019-01-21\n",
       "2  1099444     2.0  1546808400  2019-01-07\n",
       "3  1343255     5.0  1547413200  2019-01-14"
      ]
     },
     "execution_count": 23,
     "metadata": {},
     "output_type": "execute_result"
    }
   ],
   "source": [
    "data_test = pd.read_csv('data_test.csv')\n",
    "data_test = data_test.drop('Unnamed: 0', axis=1)\n",
    "data_test['date'] = data_test['buy_time'].apply(lambda x: date.fromtimestamp(x))\n",
    "data_test.head(4)"
   ]
  },
  {
   "cell_type": "code",
   "execution_count": 24,
   "id": "aae58e4f",
   "metadata": {},
   "outputs": [
    {
     "name": "stdout",
     "output_type": "stream",
     "text": [
      "<class 'pandas.core.frame.DataFrame'>\n",
      "RangeIndex: 71231 entries, 0 to 71230\n",
      "Data columns (total 4 columns):\n",
      " #   Column    Non-Null Count  Dtype  \n",
      "---  ------    --------------  -----  \n",
      " 0   id        71231 non-null  int64  \n",
      " 1   vas_id    71231 non-null  float64\n",
      " 2   buy_time  71231 non-null  int64  \n",
      " 3   date      71231 non-null  object \n",
      "dtypes: float64(1), int64(2), object(1)\n",
      "memory usage: 2.2+ MB\n"
     ]
    }
   ],
   "source": [
    "data_test.info()"
   ]
  },
  {
   "cell_type": "code",
   "execution_count": 25,
   "id": "701b2ccb",
   "metadata": {},
   "outputs": [
    {
     "data": {
      "text/html": [
       "<div>\n",
       "<style scoped>\n",
       "    .dataframe tbody tr th:only-of-type {\n",
       "        vertical-align: middle;\n",
       "    }\n",
       "\n",
       "    .dataframe tbody tr th {\n",
       "        vertical-align: top;\n",
       "    }\n",
       "\n",
       "    .dataframe thead th {\n",
       "        text-align: right;\n",
       "    }\n",
       "</style>\n",
       "<table border=\"1\" class=\"dataframe\">\n",
       "  <thead>\n",
       "    <tr style=\"text-align: right;\">\n",
       "      <th></th>\n",
       "      <th>id</th>\n",
       "      <th>vas_id</th>\n",
       "      <th>0</th>\n",
       "      <th>1</th>\n",
       "      <th>2</th>\n",
       "      <th>3</th>\n",
       "      <th>4</th>\n",
       "      <th>5</th>\n",
       "      <th>6</th>\n",
       "      <th>7</th>\n",
       "      <th>...</th>\n",
       "      <th>246</th>\n",
       "      <th>247</th>\n",
       "      <th>248</th>\n",
       "      <th>249</th>\n",
       "      <th>250</th>\n",
       "      <th>251</th>\n",
       "      <th>252</th>\n",
       "      <th>day</th>\n",
       "      <th>week</th>\n",
       "      <th>month</th>\n",
       "    </tr>\n",
       "  </thead>\n",
       "  <tbody>\n",
       "    <tr>\n",
       "      <th>0</th>\n",
       "      <td>2905850</td>\n",
       "      <td>5.0</td>\n",
       "      <td>326.930023</td>\n",
       "      <td>227.410889</td>\n",
       "      <td>312.989227</td>\n",
       "      <td>200.223206</td>\n",
       "      <td>307.571747</td>\n",
       "      <td>179.118210</td>\n",
       "      <td>-16.08618</td>\n",
       "      <td>-65.076096</td>\n",
       "      <td>...</td>\n",
       "      <td>-18.630449</td>\n",
       "      <td>-209.747726</td>\n",
       "      <td>-15.832889</td>\n",
       "      <td>-0.694429</td>\n",
       "      <td>-2.175933</td>\n",
       "      <td>-0.45614</td>\n",
       "      <td>0.0</td>\n",
       "      <td>7</td>\n",
       "      <td>1</td>\n",
       "      <td>1</td>\n",
       "    </tr>\n",
       "    <tr>\n",
       "      <th>1</th>\n",
       "      <td>31619</td>\n",
       "      <td>2.0</td>\n",
       "      <td>-96.799973</td>\n",
       "      <td>100.290886</td>\n",
       "      <td>-62.040787</td>\n",
       "      <td>250.953201</td>\n",
       "      <td>-67.458244</td>\n",
       "      <td>229.848206</td>\n",
       "      <td>-16.08618</td>\n",
       "      <td>-65.076096</td>\n",
       "      <td>...</td>\n",
       "      <td>-37.630447</td>\n",
       "      <td>-306.747711</td>\n",
       "      <td>-25.832888</td>\n",
       "      <td>-0.694429</td>\n",
       "      <td>-12.175933</td>\n",
       "      <td>-0.45614</td>\n",
       "      <td>0.0</td>\n",
       "      <td>7</td>\n",
       "      <td>1</td>\n",
       "      <td>1</td>\n",
       "    </tr>\n",
       "    <tr>\n",
       "      <th>2</th>\n",
       "      <td>1427271</td>\n",
       "      <td>6.0</td>\n",
       "      <td>-87.299973</td>\n",
       "      <td>-368.999115</td>\n",
       "      <td>339.439209</td>\n",
       "      <td>48.733200</td>\n",
       "      <td>334.021759</td>\n",
       "      <td>27.628210</td>\n",
       "      <td>-16.08618</td>\n",
       "      <td>-65.076096</td>\n",
       "      <td>...</td>\n",
       "      <td>-37.630447</td>\n",
       "      <td>116.252274</td>\n",
       "      <td>25.167112</td>\n",
       "      <td>-0.694429</td>\n",
       "      <td>38.824066</td>\n",
       "      <td>-0.45614</td>\n",
       "      <td>0.0</td>\n",
       "      <td>7</td>\n",
       "      <td>1</td>\n",
       "      <td>1</td>\n",
       "    </tr>\n",
       "    <tr>\n",
       "      <th>3</th>\n",
       "      <td>2162521</td>\n",
       "      <td>6.0</td>\n",
       "      <td>-96.799973</td>\n",
       "      <td>-20.459112</td>\n",
       "      <td>-110.740784</td>\n",
       "      <td>-34.936798</td>\n",
       "      <td>-116.158249</td>\n",
       "      <td>-56.041790</td>\n",
       "      <td>-16.08618</td>\n",
       "      <td>-65.076096</td>\n",
       "      <td>...</td>\n",
       "      <td>-37.630447</td>\n",
       "      <td>-298.747711</td>\n",
       "      <td>-24.832888</td>\n",
       "      <td>-0.694429</td>\n",
       "      <td>-11.175933</td>\n",
       "      <td>-0.45614</td>\n",
       "      <td>0.0</td>\n",
       "      <td>7</td>\n",
       "      <td>1</td>\n",
       "      <td>1</td>\n",
       "    </tr>\n",
       "  </tbody>\n",
       "</table>\n",
       "<p>4 rows × 258 columns</p>\n",
       "</div>"
      ],
      "text/plain": [
       "        id  vas_id           0           1           2           3  \\\n",
       "0  2905850     5.0  326.930023  227.410889  312.989227  200.223206   \n",
       "1    31619     2.0  -96.799973  100.290886  -62.040787  250.953201   \n",
       "2  1427271     6.0  -87.299973 -368.999115  339.439209   48.733200   \n",
       "3  2162521     6.0  -96.799973  -20.459112 -110.740784  -34.936798   \n",
       "\n",
       "            4           5         6          7  ...        246         247  \\\n",
       "0  307.571747  179.118210 -16.08618 -65.076096  ... -18.630449 -209.747726   \n",
       "1  -67.458244  229.848206 -16.08618 -65.076096  ... -37.630447 -306.747711   \n",
       "2  334.021759   27.628210 -16.08618 -65.076096  ... -37.630447  116.252274   \n",
       "3 -116.158249  -56.041790 -16.08618 -65.076096  ... -37.630447 -298.747711   \n",
       "\n",
       "         248       249        250      251  252  day  week  month  \n",
       "0 -15.832889 -0.694429  -2.175933 -0.45614  0.0    7     1      1  \n",
       "1 -25.832888 -0.694429 -12.175933 -0.45614  0.0    7     1      1  \n",
       "2  25.167112 -0.694429  38.824066 -0.45614  0.0    7     1      1  \n",
       "3 -24.832888 -0.694429 -11.175933 -0.45614  0.0    7     1      1  \n",
       "\n",
       "[4 rows x 258 columns]"
      ]
     },
     "execution_count": 25,
     "metadata": {},
     "output_type": "execute_result"
    }
   ],
   "source": [
    "features_test = dd.read_csv('features.csv', sep='\\t')\n",
    "features_test = features_test.drop('Unnamed: 0', axis=1)\n",
    "\n",
    "# удалим из features тех пользователей, которых нет в data_test\n",
    "ids_test = data_test['id'].unique()\n",
    "features_test = features_test.compute()\n",
    "features_test = features_test.loc[(features_test['id'].isin(ids_test))]\n",
    "\n",
    "# отсортируем данные по признаку buy_time\n",
    "data_test = data_test.sort_index().sort_values(by='buy_time')\n",
    "features_test = features_test.sort_values(by='buy_time')\n",
    "\n",
    "data_test = pd.merge_asof(data_test, features_test, on='buy_time', by='id', direction='nearest')\n",
    "\n",
    "# Выделим день, неделю и месяц предложения услуг в отдельные признаки\n",
    "data_test['day'] = data_test['date'].apply(lambda x: pd.to_datetime(x).day)\n",
    "data_test['week'] = data_test['date'].apply(lambda x: pd.to_datetime(x).day // 7)\n",
    "data_test['month'] = data_test['date'].apply(lambda x: pd.to_datetime(x).month)\n",
    "\n",
    "data_test = data_test.drop('buy_time', axis=1)\n",
    "data_test = data_test.drop('date', axis=1)\n",
    "\n",
    "data_test[data_test.select_dtypes(np.float64).columns] = data_test.select_dtypes(np.float64).astype(np.float32)\n",
    "data_test.head(4)"
   ]
  },
  {
   "cell_type": "code",
   "execution_count": 26,
   "id": "588cc981",
   "metadata": {},
   "outputs": [],
   "source": [
    "data_test.to_csv('test_data_features.csv', index=False)"
   ]
  },
  {
   "cell_type": "markdown",
   "id": "f2496ad9",
   "metadata": {},
   "source": [
    "**Разделим признаки и целевую переменную**"
   ]
  },
  {
   "cell_type": "code",
   "execution_count": 27,
   "id": "89cb835b",
   "metadata": {},
   "outputs": [
    {
     "data": {
      "text/html": [
       "<div>\n",
       "<style scoped>\n",
       "    .dataframe tbody tr th:only-of-type {\n",
       "        vertical-align: middle;\n",
       "    }\n",
       "\n",
       "    .dataframe tbody tr th {\n",
       "        vertical-align: top;\n",
       "    }\n",
       "\n",
       "    .dataframe thead th {\n",
       "        text-align: right;\n",
       "    }\n",
       "</style>\n",
       "<table border=\"1\" class=\"dataframe\">\n",
       "  <thead>\n",
       "    <tr style=\"text-align: right;\">\n",
       "      <th></th>\n",
       "      <th>id</th>\n",
       "      <th>vas_id</th>\n",
       "      <th>target</th>\n",
       "      <th>0</th>\n",
       "      <th>1</th>\n",
       "      <th>2</th>\n",
       "      <th>3</th>\n",
       "      <th>4</th>\n",
       "      <th>5</th>\n",
       "      <th>6</th>\n",
       "      <th>...</th>\n",
       "      <th>246</th>\n",
       "      <th>247</th>\n",
       "      <th>248</th>\n",
       "      <th>249</th>\n",
       "      <th>250</th>\n",
       "      <th>251</th>\n",
       "      <th>252</th>\n",
       "      <th>day</th>\n",
       "      <th>week</th>\n",
       "      <th>month</th>\n",
       "    </tr>\n",
       "  </thead>\n",
       "  <tbody>\n",
       "    <tr>\n",
       "      <th>0</th>\n",
       "      <td>2582523</td>\n",
       "      <td>2.0</td>\n",
       "      <td>0.0</td>\n",
       "      <td>314.560030</td>\n",
       "      <td>9.290888</td>\n",
       "      <td>342.989230</td>\n",
       "      <td>7.523202</td>\n",
       "      <td>337.571750</td>\n",
       "      <td>-13.58179</td>\n",
       "      <td>-16.08618</td>\n",
       "      <td>...</td>\n",
       "      <td>121.369550</td>\n",
       "      <td>142.25227</td>\n",
       "      <td>-16.832888</td>\n",
       "      <td>-0.694429</td>\n",
       "      <td>-11.175933</td>\n",
       "      <td>-0.45614</td>\n",
       "      <td>0.0</td>\n",
       "      <td>9</td>\n",
       "      <td>1</td>\n",
       "      <td>7</td>\n",
       "    </tr>\n",
       "    <tr>\n",
       "      <th>1</th>\n",
       "      <td>1292549</td>\n",
       "      <td>2.0</td>\n",
       "      <td>0.0</td>\n",
       "      <td>93.880030</td>\n",
       "      <td>-217.499110</td>\n",
       "      <td>79.939220</td>\n",
       "      <td>-270.106800</td>\n",
       "      <td>74.521750</td>\n",
       "      <td>-291.21180</td>\n",
       "      <td>-16.08618</td>\n",
       "      <td>...</td>\n",
       "      <td>-37.630447</td>\n",
       "      <td>-306.74770</td>\n",
       "      <td>-25.832888</td>\n",
       "      <td>-0.694429</td>\n",
       "      <td>-12.175933</td>\n",
       "      <td>-0.45614</td>\n",
       "      <td>0.0</td>\n",
       "      <td>9</td>\n",
       "      <td>1</td>\n",
       "      <td>7</td>\n",
       "    </tr>\n",
       "    <tr>\n",
       "      <th>2</th>\n",
       "      <td>4053116</td>\n",
       "      <td>1.0</td>\n",
       "      <td>0.0</td>\n",
       "      <td>125.110030</td>\n",
       "      <td>152.190890</td>\n",
       "      <td>111.169210</td>\n",
       "      <td>107.213200</td>\n",
       "      <td>105.751755</td>\n",
       "      <td>86.10821</td>\n",
       "      <td>-16.08618</td>\n",
       "      <td>...</td>\n",
       "      <td>761.369570</td>\n",
       "      <td>-213.74773</td>\n",
       "      <td>26.167112</td>\n",
       "      <td>-0.694429</td>\n",
       "      <td>39.824066</td>\n",
       "      <td>-0.45614</td>\n",
       "      <td>1.0</td>\n",
       "      <td>9</td>\n",
       "      <td>1</td>\n",
       "      <td>7</td>\n",
       "    </tr>\n",
       "    <tr>\n",
       "      <th>3</th>\n",
       "      <td>4158361</td>\n",
       "      <td>2.0</td>\n",
       "      <td>0.0</td>\n",
       "      <td>-7.829971</td>\n",
       "      <td>-266.839100</td>\n",
       "      <td>-20.500786</td>\n",
       "      <td>-304.196800</td>\n",
       "      <td>-25.918247</td>\n",
       "      <td>-325.30180</td>\n",
       "      <td>-16.08618</td>\n",
       "      <td>...</td>\n",
       "      <td>-37.630447</td>\n",
       "      <td>-108.74773</td>\n",
       "      <td>-25.832888</td>\n",
       "      <td>-0.694429</td>\n",
       "      <td>-12.175933</td>\n",
       "      <td>-0.45614</td>\n",
       "      <td>1.0</td>\n",
       "      <td>9</td>\n",
       "      <td>1</td>\n",
       "      <td>7</td>\n",
       "    </tr>\n",
       "  </tbody>\n",
       "</table>\n",
       "<p>4 rows × 259 columns</p>\n",
       "</div>"
      ],
      "text/plain": [
       "        id  vas_id  target           0           1           2           3  \\\n",
       "0  2582523     2.0     0.0  314.560030    9.290888  342.989230    7.523202   \n",
       "1  1292549     2.0     0.0   93.880030 -217.499110   79.939220 -270.106800   \n",
       "2  4053116     1.0     0.0  125.110030  152.190890  111.169210  107.213200   \n",
       "3  4158361     2.0     0.0   -7.829971 -266.839100  -20.500786 -304.196800   \n",
       "\n",
       "            4          5         6  ...         246        247        248  \\\n",
       "0  337.571750  -13.58179 -16.08618  ...  121.369550  142.25227 -16.832888   \n",
       "1   74.521750 -291.21180 -16.08618  ...  -37.630447 -306.74770 -25.832888   \n",
       "2  105.751755   86.10821 -16.08618  ...  761.369570 -213.74773  26.167112   \n",
       "3  -25.918247 -325.30180 -16.08618  ...  -37.630447 -108.74773 -25.832888   \n",
       "\n",
       "        249        250      251  252  day  week  month  \n",
       "0 -0.694429 -11.175933 -0.45614  0.0    9     1      7  \n",
       "1 -0.694429 -12.175933 -0.45614  0.0    9     1      7  \n",
       "2 -0.694429  39.824066 -0.45614  1.0    9     1      7  \n",
       "3 -0.694429 -12.175933 -0.45614  1.0    9     1      7  \n",
       "\n",
       "[4 rows x 259 columns]"
      ]
     },
     "execution_count": 27,
     "metadata": {},
     "output_type": "execute_result"
    }
   ],
   "source": [
    "data_train = pd.read_csv('train_data_features.csv')\n",
    "data_train.head(4)"
   ]
  },
  {
   "cell_type": "code",
   "execution_count": 28,
   "id": "754822e0",
   "metadata": {},
   "outputs": [],
   "source": [
    "X = data_train.drop('target', axis=1)\n",
    "y = data_train['target']"
   ]
  },
  {
   "cell_type": "markdown",
   "id": "59bbfc40",
   "metadata": {},
   "source": [
    "**Определение типа признаков**"
   ]
  },
  {
   "cell_type": "code",
   "execution_count": 29,
   "id": "45e87f05",
   "metadata": {},
   "outputs": [
    {
     "data": {
      "text/plain": [
       "(258,)"
      ]
     },
     "execution_count": 29,
     "metadata": {},
     "output_type": "execute_result"
    }
   ],
   "source": [
    "X_nunique = X.apply(lambda x: x.nunique(dropna=False))\n",
    "X_nunique.shape"
   ]
  },
  {
   "cell_type": "code",
   "execution_count": 30,
   "id": "9d38cf53",
   "metadata": {},
   "outputs": [
    {
     "data": {
      "text/plain": [
       "258"
      ]
     },
     "execution_count": 30,
     "metadata": {},
     "output_type": "execute_result"
    }
   ],
   "source": [
    "f_all = set(X_nunique.index.tolist())\n",
    "len(f_all)"
   ]
  },
  {
   "cell_type": "code",
   "execution_count": 31,
   "id": "ffe837f3",
   "metadata": {},
   "outputs": [
    {
     "data": {
      "text/plain": [
       "(5, 253)"
      ]
     },
     "execution_count": 31,
     "metadata": {},
     "output_type": "execute_result"
    }
   ],
   "source": [
    "# константные признаки\n",
    "f_const = set(X_nunique[X_nunique == 1].index.tolist())\n",
    "f_other = f_all - f_const\n",
    "len(f_const), len(f_other)"
   ]
  },
  {
   "cell_type": "code",
   "execution_count": 32,
   "id": "3d80f480",
   "metadata": {},
   "outputs": [
    {
     "data": {
      "text/plain": [
       "(244, 9)"
      ]
     },
     "execution_count": 32,
     "metadata": {},
     "output_type": "execute_result"
    }
   ],
   "source": [
    "# вещественные признаки:\n",
    "f_numeric = (X[f_other].fillna(0).astype(int).sum() - X[f_other].fillna(0).sum()).abs() \n",
    "f_numeric = set(f_numeric[f_numeric > 0].index.tolist())\n",
    "f_other = f_other - f_numeric\n",
    "len(f_numeric), len(f_other)"
   ]
  },
  {
   "cell_type": "code",
   "execution_count": 33,
   "id": "b4fb2bf7",
   "metadata": {},
   "outputs": [
    {
     "data": {
      "text/plain": [
       "(3, 6)"
      ]
     },
     "execution_count": 33,
     "metadata": {},
     "output_type": "execute_result"
    }
   ],
   "source": [
    "# категориальные признаки\n",
    "f_categorical = set(X_nunique.loc[f_other][X_nunique.loc[f_other] <= 10].index.tolist())\n",
    "f_other = f_other - f_categorical\n",
    "len(f_categorical), len(f_other)"
   ]
  },
  {
   "cell_type": "code",
   "execution_count": 34,
   "id": "41ba6d42",
   "metadata": {},
   "outputs": [
    {
     "data": {
      "text/plain": [
       "(0, 6)"
      ]
     },
     "execution_count": 34,
     "metadata": {},
     "output_type": "execute_result"
    }
   ],
   "source": [
    "# Отберём бинарные признаки:\n",
    "f_binary = set(X.loc[:, f_other].columns[(\n",
    "    (X.loc[:, f_other].max() == 1) & \\\n",
    "    (X.loc[:, f_other].min() == 0) & \\\n",
    "    (X.loc[:, f_other].isnull().sum() == 0))])\n",
    "f_other = f_other - f_binary\n",
    "len(f_binary), len(f_other)"
   ]
  },
  {
   "cell_type": "code",
   "execution_count": 35,
   "id": "e7278224",
   "metadata": {},
   "outputs": [
    {
     "data": {
      "text/plain": [
       "0"
      ]
     },
     "execution_count": 35,
     "metadata": {},
     "output_type": "execute_result"
    }
   ],
   "source": [
    "f_numeric = f_numeric | f_other\n",
    "f_other = f_other - f_numeric\n",
    "len(f_other)"
   ]
  },
  {
   "cell_type": "code",
   "execution_count": 36,
   "id": "aa0ba8f0",
   "metadata": {},
   "outputs": [],
   "source": [
    "assert(X_nunique.shape[0] == len(f_const) + len(f_binary) + len(f_categorical) + len(f_numeric))"
   ]
  },
  {
   "cell_type": "code",
   "execution_count": 37,
   "id": "c1c66cba",
   "metadata": {},
   "outputs": [
    {
     "name": "stdout",
     "output_type": "stream",
     "text": [
      "f_all: 258\n",
      "\n",
      "f_const: 5\n",
      "f_binary: 0\n",
      "f_categorical: 3\n",
      "f_numeric: 250\n"
     ]
    }
   ],
   "source": [
    "print('f_all:', len(f_all))\n",
    "print()\n",
    "print('f_const:', len(f_const))\n",
    "print('f_binary:', len(f_binary))\n",
    "print('f_categorical:', len(f_categorical))\n",
    "print('f_numeric:', len(f_numeric))\n",
    "\n",
    "f_ok = list(f_binary | f_categorical | f_numeric)\n",
    "f_binary, f_categorical, f_numeric = list(f_binary), list(f_categorical), list(f_numeric)"
   ]
  },
  {
   "cell_type": "markdown",
   "id": "5f3a566e",
   "metadata": {},
   "source": [
    "### Разобьем данные на train и test"
   ]
  },
  {
   "cell_type": "code",
   "execution_count": 38,
   "id": "2818f17d",
   "metadata": {},
   "outputs": [],
   "source": [
    "train_idx, test_idx = train_test_split(X.index, test_size=0.25, random_state=42)\n",
    "\n",
    "y_train, y_test = y.loc[train_idx], y.loc[test_idx]\n",
    "X_train, X_test = X.loc[train_idx], X.loc[test_idx]"
   ]
  },
  {
   "cell_type": "markdown",
   "id": "58ca3952",
   "metadata": {},
   "source": [
    "**Балансировка данных**"
   ]
  },
  {
   "cell_type": "code",
   "execution_count": 39,
   "id": "f631b73a",
   "metadata": {},
   "outputs": [
    {
     "name": "stdout",
     "output_type": "stream",
     "text": [
      "Train\n",
      "0.0    0.5\n",
      "1.0    0.5\n",
      "Name: target, dtype: float64\n",
      "\n",
      "Test\n",
      "0.0    0.92811\n",
      "1.0    0.07189\n",
      "Name: target, dtype: float64\n"
     ]
    }
   ],
   "source": [
    "data_balance = RandomUnderSampler(random_state=42)\n",
    "X_train, y_train = data_balance.fit_resample(X_train, y_train)\n",
    "\n",
    "print('Train')\n",
    "print(y_train.value_counts() / y_train.shape[0])\n",
    "print()\n",
    "print('Test')\n",
    "print(y_test.value_counts() / y_test.shape[0])"
   ]
  },
  {
   "cell_type": "markdown",
   "id": "8969c67f",
   "metadata": {},
   "source": [
    "### Построение пайплайнов"
   ]
  },
  {
   "cell_type": "markdown",
   "id": "c3a306b9",
   "metadata": {},
   "source": [
    "**Column Selector**"
   ]
  },
  {
   "cell_type": "code",
   "execution_count": 40,
   "id": "e0d02fda",
   "metadata": {},
   "outputs": [],
   "source": [
    "class ColumnSelector(BaseEstimator, TransformerMixin):\n",
    "    def __init__(self, columns):\n",
    "        self.columns = columns\n",
    "\n",
    "    def fit(self, X, y=None):\n",
    "        return self\n",
    "    \n",
    "    def transform(self, X):\n",
    "        assert isinstance(X, pd.DataFrame)\n",
    "\n",
    "        try:\n",
    "            return X[self.columns]\n",
    "        except KeyError:\n",
    "            cols_error = list(set(self.columns) - set(X.columns))\n",
    "            raise KeyError(f'DataFrame не содержит следующие колонки: {cols_error}')"
   ]
  },
  {
   "cell_type": "markdown",
   "id": "aec502b5",
   "metadata": {},
   "source": [
    "**Пайплайн для обработки признаков**"
   ]
  },
  {
   "cell_type": "code",
   "execution_count": 41,
   "id": "699ebccb",
   "metadata": {},
   "outputs": [
    {
     "data": {
      "text/plain": [
       "[('columnselector',\n",
       "  ColumnSelector(columns=['vas_id', '32', '248', 'day', '244', 'month', '38',\n",
       "                          '115', '249', '193', '132', '3', '133', '136', '159',\n",
       "                          '215', '91', '120', '116', '216', '17', '70', '176',\n",
       "                          '71', '100', '235', '14', '170', '80', '227', ...])),\n",
       " ('featureunion',\n",
       "  FeatureUnion(transformer_list=[('numeric_features',\n",
       "                                  Pipeline(steps=[('columnselector',\n",
       "                                                   ColumnSelector(columns=['32',\n",
       "                                                                           '248',\n",
       "                                                                           'day',\n",
       "                                                                           '244',\n",
       "                                                                           '38',\n",
       "                                                                           '115',\n",
       "                                                                           '249',\n",
       "                                                                           '193',\n",
       "                                                                           '132',\n",
       "                                                                           '3',\n",
       "                                                                           '133',\n",
       "                                                                           '136',\n",
       "                                                                           '159',\n",
       "                                                                           '215',\n",
       "                                                                           '91',\n",
       "                                                                           '120',\n",
       "                                                                           '116',\n",
       "                                                                           '216',\n",
       "                                                                           '17',\n",
       "                                                                           '70',\n",
       "                                                                           '176',\n",
       "                                                                           '71',\n",
       "                                                                           '100',\n",
       "                                                                           '235',\n",
       "                                                                           '14',\n",
       "                                                                           '170',\n",
       "                                                                           '80',\n",
       "                                                                           '227',\n",
       "                                                                           '86',\n",
       "                                                                           '87', ...])),\n",
       "                                                  ('simpleimputer',\n",
       "                                                   SimpleImputer()),\n",
       "                                                  ('standardscaler',\n",
       "                                                   StandardScaler()),\n",
       "                                                  ('pca', PCA())])),\n",
       "                                 ('categorical_features',\n",
       "                                  Pipeline(steps=[('columnselector',\n",
       "                                                   ColumnSelector(columns=['vas_id',\n",
       "                                                                           'week',\n",
       "                                                                           'month'])),\n",
       "                                                  ('simpleimputer',\n",
       "                                                   SimpleImputer(strategy='most_frequent')),\n",
       "                                                  ('onehotencoder',\n",
       "                                                   OneHotEncoder(handle_unknown='ignore'))])),\n",
       "                                 ('boolean_features',\n",
       "                                  Pipeline(steps=[('columnselector',\n",
       "                                                   ColumnSelector(columns=[]))]))]))]"
      ]
     },
     "execution_count": 41,
     "metadata": {},
     "output_type": "execute_result"
    }
   ],
   "source": [
    "f_prep_pipeline = make_pipeline(\n",
    "    ColumnSelector(columns=f_ok),\n",
    "    FeatureUnion(transformer_list=[\n",
    "        ('numeric_features', make_pipeline(\n",
    "            ColumnSelector(f_numeric),\n",
    "            SimpleImputer(strategy=\"mean\"),\n",
    "            StandardScaler(),\n",
    "            PCA()\n",
    "        )),\n",
    "        ('categorical_features', make_pipeline(\n",
    "            ColumnSelector(f_categorical),\n",
    "            SimpleImputer(strategy='most_frequent'),\n",
    "            OneHotEncoder(handle_unknown='ignore')\n",
    "        )),\n",
    "        ('boolean_features', make_pipeline(\n",
    "            ColumnSelector(f_binary)\n",
    "        ))\n",
    "    ])\n",
    ")\n",
    "\n",
    "f_prep_pipeline.steps"
   ]
  },
  {
   "cell_type": "code",
   "execution_count": 42,
   "id": "19de63d5",
   "metadata": {},
   "outputs": [
    {
     "data": {
      "text/plain": [
       "258"
      ]
     },
     "execution_count": 42,
     "metadata": {},
     "output_type": "execute_result"
    }
   ],
   "source": [
    "X_test.shape[1]"
   ]
  },
  {
   "cell_type": "code",
   "execution_count": 43,
   "id": "21a4bfad",
   "metadata": {},
   "outputs": [
    {
     "data": {
      "text/plain": [
       "269"
      ]
     },
     "execution_count": 43,
     "metadata": {},
     "output_type": "execute_result"
    }
   ],
   "source": [
    "f_prep_pipeline.fit(X_train)\n",
    "\n",
    "n_features = f_prep_pipeline.transform(X_test).shape[1]\n",
    "n_features"
   ]
  },
  {
   "cell_type": "markdown",
   "id": "691816db",
   "metadata": {},
   "source": [
    "**Подбор параметров с помощью GridSearchCV**"
   ]
  },
  {
   "cell_type": "code",
   "execution_count": 44,
   "id": "d92ccba8",
   "metadata": {},
   "outputs": [],
   "source": [
    "def run_grid_search(estimator, X, y, params_grid, cv, scoring='roc_auc'):\n",
    "    gsc = GridSearchCV(estimator, params_grid, scoring=scoring, cv=cv, n_jobs=-1)\n",
    "\n",
    "    gsc.fit(X, y)\n",
    "    print('Best %s score: %.2f' % (scoring, gsc.best_score_))\n",
    "    print()\n",
    "    print('Best parameters set found on development set:')\n",
    "    print()\n",
    "    print(gsc.best_params_)\n",
    "    print()\n",
    "    print('Grid scores on development set:')\n",
    "    print()\n",
    "\n",
    "    for i, params in enumerate(gsc.cv_results_['params']):\n",
    "        print('%0.3f (+/-%0.03f) for %r'\n",
    "              % (gsc.cv_results_['mean_test_score'][i], gsc.cv_results_['std_test_score'][i] * 2, params))\n",
    "\n",
    "    print()\n",
    "    \n",
    "    return gsc"
   ]
  },
  {
   "cell_type": "code",
   "execution_count": 45,
   "id": "c7c2a561",
   "metadata": {},
   "outputs": [],
   "source": [
    "kfold_cv = KFold(n_splits=3, shuffle=True, random_state=42)"
   ]
  },
  {
   "cell_type": "markdown",
   "id": "0e9f0474",
   "metadata": {},
   "source": [
    "## Обучение моделей"
   ]
  },
  {
   "cell_type": "code",
   "execution_count": 46,
   "id": "ff752a99",
   "metadata": {},
   "outputs": [],
   "source": [
    "def treshold_search(y_true, y_pred):\n",
    "    top = [0.5, f1_score(y_true, y_pred[: , 1] > 0.5, average='macro')]\n",
    "    for treshold in np.linspace(0, 1, 20):\n",
    "        fscore = f1_score(y_true, y_pred[: , 1] > treshold, average='macro')\n",
    "        if fscore > top[1]:\n",
    "            top[0] = treshold\n",
    "            top[1] = fscore\n",
    "    print(f'Лучшая отсечка : {top[0]}, Метрика F1_macro: {top[1]}')\n",
    "    print(\"=\" * 80)\n",
    "    print(classification_report(y_true, y_pred[:, 1] > top[0]))"
   ]
  },
  {
   "cell_type": "markdown",
   "id": "60ab8e7e",
   "metadata": {},
   "source": [
    "### ***1) LogisticRegression***"
   ]
  },
  {
   "cell_type": "code",
   "execution_count": 47,
   "id": "57af57b4",
   "metadata": {},
   "outputs": [],
   "source": [
    "lgr_pipe = make_pipeline(\n",
    "    f_prep_pipeline,\n",
    "    LogisticRegression(random_state=42)\n",
    ")"
   ]
  },
  {
   "cell_type": "code",
   "execution_count": 48,
   "id": "d9c94343",
   "metadata": {},
   "outputs": [
    {
     "data": {
      "text/plain": [
       "Pipeline(steps=[('pipeline',\n",
       "                 Pipeline(steps=[('columnselector',\n",
       "                                  ColumnSelector(columns=['vas_id', '32', '248',\n",
       "                                                          'day', '244', 'month',\n",
       "                                                          '38', '115', '249',\n",
       "                                                          '193', '132', '3',\n",
       "                                                          '133', '136', '159',\n",
       "                                                          '215', '91', '120',\n",
       "                                                          '116', '216', '17',\n",
       "                                                          '70', '176', '71',\n",
       "                                                          '100', '235', '14',\n",
       "                                                          '170', '80', '227', ...])),\n",
       "                                 ('featureunion',\n",
       "                                  FeatureUnion(transformer_list=[('numeric_features',\n",
       "                                                                  Pipeline(steps=...\n",
       "                                                                  Pipeline(steps=[('columnselector',\n",
       "                                                                                   ColumnSelector(columns=['vas_id',\n",
       "                                                                                                           'week',\n",
       "                                                                                                           'month'])),\n",
       "                                                                                  ('simpleimputer',\n",
       "                                                                                   SimpleImputer(strategy='most_frequent')),\n",
       "                                                                                  ('onehotencoder',\n",
       "                                                                                   OneHotEncoder(handle_unknown='ignore'))])),\n",
       "                                                                 ('boolean_features',\n",
       "                                                                  Pipeline(steps=[('columnselector',\n",
       "                                                                                   ColumnSelector(columns=[]))]))]))])),\n",
       "                ('logisticregression', LogisticRegression(random_state=42))])"
      ]
     },
     "execution_count": 48,
     "metadata": {},
     "output_type": "execute_result"
    }
   ],
   "source": [
    "lgr_pipe.fit(X_train, y_train)"
   ]
  },
  {
   "cell_type": "code",
   "execution_count": 49,
   "id": "f0547cc4",
   "metadata": {},
   "outputs": [],
   "source": [
    "preds = lgr_pipe.predict(X_test)"
   ]
  },
  {
   "cell_type": "code",
   "execution_count": 50,
   "id": "4f2ce7e7",
   "metadata": {},
   "outputs": [
    {
     "data": {
      "text/plain": [
       "0.6884021484640246"
      ]
     },
     "execution_count": 50,
     "metadata": {},
     "output_type": "execute_result"
    }
   ],
   "source": [
    "f1_score(y_test, preds, average='macro')"
   ]
  },
  {
   "cell_type": "code",
   "execution_count": 51,
   "id": "f0525aeb",
   "metadata": {},
   "outputs": [
    {
     "name": "stdout",
     "output_type": "stream",
     "text": [
      "              precision    recall  f1-score   support\n",
      "\n",
      "         0.0       0.99      0.84      0.91    192967\n",
      "         1.0       0.31      0.91      0.46     14947\n",
      "\n",
      "    accuracy                           0.85    207914\n",
      "   macro avg       0.65      0.88      0.69    207914\n",
      "weighted avg       0.94      0.85      0.88    207914\n",
      "\n"
     ]
    }
   ],
   "source": [
    "print(classification_report(y_test, preds))"
   ]
  },
  {
   "cell_type": "markdown",
   "id": "3b42aff5",
   "metadata": {},
   "source": [
    "Попробуем подобрать лучшие параметры для модели"
   ]
  },
  {
   "cell_type": "code",
   "execution_count": 52,
   "id": "bd651269",
   "metadata": {},
   "outputs": [
    {
     "name": "stdout",
     "output_type": "stream",
     "text": [
      "Best roc_auc score: 0.91\n",
      "\n",
      "Best parameters set found on development set:\n",
      "\n",
      "{'logisticregression__C': 5.0, 'logisticregression__penalty': 'l2'}\n",
      "\n",
      "Grid scores on development set:\n",
      "\n",
      "nan (+/-nan) for {'logisticregression__C': 0.01, 'logisticregression__penalty': 'l1'}\n",
      "0.905 (+/-0.002) for {'logisticregression__C': 0.01, 'logisticregression__penalty': 'l2'}\n",
      "nan (+/-nan) for {'logisticregression__C': 0.1, 'logisticregression__penalty': 'l1'}\n",
      "0.907 (+/-0.002) for {'logisticregression__C': 0.1, 'logisticregression__penalty': 'l2'}\n",
      "nan (+/-nan) for {'logisticregression__C': 5.0, 'logisticregression__penalty': 'l1'}\n",
      "0.907 (+/-0.002) for {'logisticregression__C': 5.0, 'logisticregression__penalty': 'l2'}\n",
      "\n",
      "Wall time: 2min 12s\n"
     ]
    }
   ],
   "source": [
    "%%time\n",
    "\n",
    "param_grid = {\n",
    "    'logisticregression__penalty': ['l1', 'l2'],\n",
    "    'logisticregression__C': [0.01, 0.1, 5.0]\n",
    "}\n",
    "\n",
    "lgr_gsc = run_grid_search(lgr_pipe, X_train, y_train, param_grid, kfold_cv)"
   ]
  },
  {
   "cell_type": "markdown",
   "id": "36d18a31",
   "metadata": {},
   "source": [
    "Best roc_auc score: 0.91\n",
    "\n",
    "Best parameters set found on development set:\n",
    "\n",
    "{'logisticregression__C': 5.0, 'logisticregression__penalty': 'l2'}\n",
    "\n",
    "Wall time: 2min 12s"
   ]
  },
  {
   "cell_type": "code",
   "execution_count": 53,
   "id": "d5883420",
   "metadata": {},
   "outputs": [
    {
     "data": {
      "text/plain": [
       "{'logisticregression__C': 5.0, 'logisticregression__penalty': 'l2'}"
      ]
     },
     "execution_count": 53,
     "metadata": {},
     "output_type": "execute_result"
    }
   ],
   "source": [
    "lgr_gsc.best_params_"
   ]
  },
  {
   "cell_type": "code",
   "execution_count": 54,
   "id": "202a4740",
   "metadata": {},
   "outputs": [],
   "source": [
    "lgr_fs_pipe = make_pipeline(\n",
    "    f_prep_pipeline,\n",
    "    SelectFromModel(LogisticRegression(penalty='l2', C=5.0, random_state=42)),\n",
    "    LogisticRegression(random_state=42)\n",
    ")"
   ]
  },
  {
   "cell_type": "code",
   "execution_count": 55,
   "id": "38f52ffc",
   "metadata": {},
   "outputs": [
    {
     "name": "stdout",
     "output_type": "stream",
     "text": [
      "Best roc_auc score: 0.91\n",
      "\n",
      "Best parameters set found on development set:\n",
      "\n",
      "{'selectfrommodel__max_features': 150, 'selectfrommodel__threshold': -inf}\n",
      "\n",
      "Grid scores on development set:\n",
      "\n",
      "0.907 (+/-0.002) for {'selectfrommodel__max_features': None, 'selectfrommodel__threshold': -inf}\n",
      "0.896 (+/-0.003) for {'selectfrommodel__max_features': 5, 'selectfrommodel__threshold': -inf}\n",
      "0.902 (+/-0.001) for {'selectfrommodel__max_features': 10, 'selectfrommodel__threshold': -inf}\n",
      "0.906 (+/-0.002) for {'selectfrommodel__max_features': 50, 'selectfrommodel__threshold': -inf}\n",
      "0.907 (+/-0.002) for {'selectfrommodel__max_features': 100, 'selectfrommodel__threshold': -inf}\n",
      "0.907 (+/-0.002) for {'selectfrommodel__max_features': 150, 'selectfrommodel__threshold': -inf}\n",
      "0.907 (+/-0.002) for {'selectfrommodel__threshold': 1e-05}\n",
      "\n",
      "Wall time: 2min 51s\n"
     ]
    }
   ],
   "source": [
    "%%time\n",
    "\n",
    "param_grid = [\n",
    "    {'selectfrommodel__max_features': [None, 5, 10, 50, 100, 150], 'selectfrommodel__threshold': [-np.inf]},\n",
    "    {'selectfrommodel__threshold': [1e-5]},\n",
    "]\n",
    "\n",
    "lgr_fs_gsc = run_grid_search(lgr_fs_pipe, X_train, y_train, param_grid, kfold_cv)"
   ]
  },
  {
   "cell_type": "markdown",
   "id": "7a08961f",
   "metadata": {},
   "source": [
    "Best roc_auc score: 0.91\n",
    "\n",
    "Best parameters set found on development set:\n",
    "\n",
    "{'selectfrommodel__max_features': 150, 'selectfrommodel__threshold': -inf}\n",
    "\n",
    "Wall time: 2min 51s"
   ]
  },
  {
   "cell_type": "markdown",
   "id": "fef131a0",
   "metadata": {},
   "source": [
    "Оптимальнее всего использовать топ-150 признаков"
   ]
  },
  {
   "cell_type": "code",
   "execution_count": 56,
   "id": "812407e9",
   "metadata": {},
   "outputs": [
    {
     "data": {
      "text/plain": [
       "Pipeline(steps=[('pipeline',\n",
       "                 Pipeline(steps=[('columnselector',\n",
       "                                  ColumnSelector(columns=['vas_id', '32', '248',\n",
       "                                                          'day', '244', 'month',\n",
       "                                                          '38', '115', '249',\n",
       "                                                          '193', '132', '3',\n",
       "                                                          '133', '136', '159',\n",
       "                                                          '215', '91', '120',\n",
       "                                                          '116', '216', '17',\n",
       "                                                          '70', '176', '71',\n",
       "                                                          '100', '235', '14',\n",
       "                                                          '170', '80', '227', ...])),\n",
       "                                 ('featureunion',\n",
       "                                  FeatureUnion(transformer_list=[('numeric_features',\n",
       "                                                                  Pipeline(steps=...\n",
       "                                                                                  ('simpleimputer',\n",
       "                                                                                   SimpleImputer(strategy='most_frequent')),\n",
       "                                                                                  ('onehotencoder',\n",
       "                                                                                   OneHotEncoder(handle_unknown='ignore'))])),\n",
       "                                                                 ('boolean_features',\n",
       "                                                                  Pipeline(steps=[('columnselector',\n",
       "                                                                                   ColumnSelector(columns=[]))]))]))])),\n",
       "                ('selectfrommodel',\n",
       "                 SelectFromModel(estimator=LogisticRegression(C=5.0,\n",
       "                                                              random_state=42))),\n",
       "                ('logisticregression', LogisticRegression(random_state=42))])"
      ]
     },
     "execution_count": 56,
     "metadata": {},
     "output_type": "execute_result"
    }
   ],
   "source": [
    "lgr_fs_pipe.fit(X_train, y_train)"
   ]
  },
  {
   "cell_type": "code",
   "execution_count": 57,
   "id": "3049f40a",
   "metadata": {},
   "outputs": [
    {
     "data": {
      "text/plain": [
       "0.8759852935478104"
      ]
     },
     "execution_count": 57,
     "metadata": {},
     "output_type": "execute_result"
    }
   ],
   "source": [
    "preds_train_lgr = lgr_fs_pipe.predict(X_train)\n",
    "f1_score(y_train, preds_train_lgr, average='macro')"
   ]
  },
  {
   "cell_type": "code",
   "execution_count": 58,
   "id": "f7a5617c",
   "metadata": {},
   "outputs": [
    {
     "data": {
      "text/plain": [
       "0.6854093413908482"
      ]
     },
     "execution_count": 58,
     "metadata": {},
     "output_type": "execute_result"
    }
   ],
   "source": [
    "preds_test_lgr = lgr_fs_pipe.predict(X_test)\n",
    "f1_score(y_test, preds_test_lgr, average='macro')"
   ]
  },
  {
   "cell_type": "code",
   "execution_count": 59,
   "id": "2c0b8a97",
   "metadata": {},
   "outputs": [],
   "source": [
    "preds_proba_train_lgr = lgr_fs_pipe.predict_proba(X_train)"
   ]
  },
  {
   "cell_type": "code",
   "execution_count": 60,
   "id": "589db803",
   "metadata": {},
   "outputs": [],
   "source": [
    "preds_proba_test_lgr = lgr_fs_pipe.predict_proba(X_test)"
   ]
  },
  {
   "cell_type": "code",
   "execution_count": 61,
   "id": "671e971f",
   "metadata": {},
   "outputs": [
    {
     "name": "stdout",
     "output_type": "stream",
     "text": [
      "Лучшая отсечка : 0.5789473684210527, Метрика F1_macro: 0.8838700659982848\n",
      "================================================================================\n",
      "              precision    recall  f1-score   support\n",
      "\n",
      "         0.0       0.90      0.87      0.88     45239\n",
      "         1.0       0.87      0.90      0.89     45239\n",
      "\n",
      "    accuracy                           0.88     90478\n",
      "   macro avg       0.88      0.88      0.88     90478\n",
      "weighted avg       0.88      0.88      0.88     90478\n",
      "\n"
     ]
    }
   ],
   "source": [
    "treshold_search(y_train, preds_proba_train_lgr)"
   ]
  },
  {
   "cell_type": "code",
   "execution_count": 62,
   "id": "a71d387a",
   "metadata": {},
   "outputs": [
    {
     "name": "stdout",
     "output_type": "stream",
     "text": [
      "Лучшая отсечка : 0.6842105263157894, Метрика F1_macro: 0.7274920405499081\n",
      "================================================================================\n",
      "              precision    recall  f1-score   support\n",
      "\n",
      "         0.0       0.99      0.89      0.94    192967\n",
      "         1.0       0.38      0.83      0.52     14947\n",
      "\n",
      "    accuracy                           0.89    207914\n",
      "   macro avg       0.68      0.86      0.73    207914\n",
      "weighted avg       0.94      0.89      0.91    207914\n",
      "\n"
     ]
    }
   ],
   "source": [
    "treshold_search(y_test, preds_proba_test_lgr)"
   ]
  },
  {
   "cell_type": "markdown",
   "id": "f73d3eab",
   "metadata": {},
   "source": [
    "### ***2) LGBMClassifier***"
   ]
  },
  {
   "cell_type": "code",
   "execution_count": 63,
   "id": "e0b16906",
   "metadata": {},
   "outputs": [],
   "source": [
    "lgbm_fs_pipe = make_pipeline(\n",
    "    f_prep_pipeline,\n",
    "    SelectFromModel(LogisticRegression(penalty='l2', C=5.0, random_state=42)),\n",
    "    LGBMClassifier(random_state=42)\n",
    ")"
   ]
  },
  {
   "cell_type": "code",
   "execution_count": 64,
   "id": "ee21e7a3",
   "metadata": {},
   "outputs": [
    {
     "name": "stdout",
     "output_type": "stream",
     "text": [
      "Best f1 score: 0.89\n",
      "\n",
      "Best parameters set found on development set:\n",
      "\n",
      "{'lgbmclassifier__n_estimators': 100}\n",
      "\n",
      "Grid scores on development set:\n",
      "\n",
      "0.890 (+/-0.004) for {'lgbmclassifier__n_estimators': 100}\n",
      "0.889 (+/-0.004) for {'lgbmclassifier__n_estimators': 200}\n",
      "0.889 (+/-0.004) for {'lgbmclassifier__n_estimators': 300}\n",
      "\n",
      "Wall time: 1min 22s\n"
     ]
    }
   ],
   "source": [
    "%%time\n",
    "\n",
    "param_grid = [\n",
    "    {\n",
    "     'lgbmclassifier__n_estimators' : [100, 200, 300]     \n",
    "    }     \n",
    "]\n",
    "\n",
    "lgbm_gsc = run_grid_search(lgbm_fs_pipe, X_train, y_train, param_grid, kfold_cv, scoring='f1')"
   ]
  },
  {
   "cell_type": "markdown",
   "id": "45fae9eb",
   "metadata": {},
   "source": [
    "Best f1 score: 0.89\n",
    "\n",
    "Best parameters set found on development set:\n",
    "\n",
    "{'lgbmclassifier__n_estimators': 100}\n",
    "\n",
    "Wall time: 1min 22s"
   ]
  },
  {
   "cell_type": "code",
   "execution_count": 65,
   "id": "c1354741",
   "metadata": {},
   "outputs": [],
   "source": [
    "lgbm_fs_pipe = make_pipeline(\n",
    "    f_prep_pipeline,\n",
    "    SelectFromModel(LogisticRegression(penalty='l2', C=5.0, random_state=42)),\n",
    "    LGBMClassifier(random_state=42, n_estimators=100)\n",
    ")"
   ]
  },
  {
   "cell_type": "code",
   "execution_count": 66,
   "id": "1f0201d7",
   "metadata": {},
   "outputs": [
    {
     "data": {
      "text/plain": [
       "Pipeline(steps=[('pipeline',\n",
       "                 Pipeline(steps=[('columnselector',\n",
       "                                  ColumnSelector(columns=['vas_id', '32', '248',\n",
       "                                                          'day', '244', 'month',\n",
       "                                                          '38', '115', '249',\n",
       "                                                          '193', '132', '3',\n",
       "                                                          '133', '136', '159',\n",
       "                                                          '215', '91', '120',\n",
       "                                                          '116', '216', '17',\n",
       "                                                          '70', '176', '71',\n",
       "                                                          '100', '235', '14',\n",
       "                                                          '170', '80', '227', ...])),\n",
       "                                 ('featureunion',\n",
       "                                  FeatureUnion(transformer_list=[('numeric_features',\n",
       "                                                                  Pipeline(steps=...\n",
       "                                                                                  ('simpleimputer',\n",
       "                                                                                   SimpleImputer(strategy='most_frequent')),\n",
       "                                                                                  ('onehotencoder',\n",
       "                                                                                   OneHotEncoder(handle_unknown='ignore'))])),\n",
       "                                                                 ('boolean_features',\n",
       "                                                                  Pipeline(steps=[('columnselector',\n",
       "                                                                                   ColumnSelector(columns=[]))]))]))])),\n",
       "                ('selectfrommodel',\n",
       "                 SelectFromModel(estimator=LogisticRegression(C=5.0,\n",
       "                                                              random_state=42))),\n",
       "                ('lgbmclassifier', LGBMClassifier(random_state=42))])"
      ]
     },
     "execution_count": 66,
     "metadata": {},
     "output_type": "execute_result"
    }
   ],
   "source": [
    "lgbm_fs_pipe.fit(X_train, y_train)"
   ]
  },
  {
   "cell_type": "code",
   "execution_count": 67,
   "id": "88f9bb2d",
   "metadata": {},
   "outputs": [
    {
     "data": {
      "text/plain": [
       "0.8877396398368465"
      ]
     },
     "execution_count": 67,
     "metadata": {},
     "output_type": "execute_result"
    }
   ],
   "source": [
    "preds_train_lgbm = lgbm_fs_pipe.predict(X_train)\n",
    "f1_score(y_train, preds_train_lgbm, average='macro')"
   ]
  },
  {
   "cell_type": "code",
   "execution_count": 68,
   "id": "21bafd02",
   "metadata": {},
   "outputs": [
    {
     "data": {
      "text/plain": [
       "0.7135191202137183"
      ]
     },
     "execution_count": 68,
     "metadata": {},
     "output_type": "execute_result"
    }
   ],
   "source": [
    "preds_test_lgbm = lgbm_fs_pipe.predict(X_test)\n",
    "f1_score(y_test, preds_test_lgbm, average='macro')"
   ]
  },
  {
   "cell_type": "code",
   "execution_count": 69,
   "id": "c219bca9",
   "metadata": {},
   "outputs": [],
   "source": [
    "preds_proba_train_lgbm = lgbm_fs_pipe.predict_proba(X_train)"
   ]
  },
  {
   "cell_type": "code",
   "execution_count": 70,
   "id": "d7360c7c",
   "metadata": {},
   "outputs": [],
   "source": [
    "preds_proba_test_lgbm = lgbm_fs_pipe.predict_proba(X_test)"
   ]
  },
  {
   "cell_type": "code",
   "execution_count": 71,
   "id": "20a87dd7",
   "metadata": {},
   "outputs": [
    {
     "name": "stdout",
     "output_type": "stream",
     "text": [
      "Лучшая отсечка : 0.631578947368421, Метрика F1_macro: 0.8889420035825384\n",
      "================================================================================\n",
      "              precision    recall  f1-score   support\n",
      "\n",
      "         0.0       0.90      0.87      0.89     45239\n",
      "         1.0       0.88      0.91      0.89     45239\n",
      "\n",
      "    accuracy                           0.89     90478\n",
      "   macro avg       0.89      0.89      0.89     90478\n",
      "weighted avg       0.89      0.89      0.89     90478\n",
      "\n"
     ]
    }
   ],
   "source": [
    "treshold_search(y_train, preds_proba_train_lgbm)"
   ]
  },
  {
   "cell_type": "code",
   "execution_count": 72,
   "id": "d9f000c3",
   "metadata": {},
   "outputs": [
    {
     "name": "stdout",
     "output_type": "stream",
     "text": [
      "Лучшая отсечка : 0.8421052631578947, Метрика F1_macro: 0.7557860279975601\n",
      "================================================================================\n",
      "              precision    recall  f1-score   support\n",
      "\n",
      "         0.0       0.97      0.94      0.96    192967\n",
      "         1.0       0.48      0.66      0.55     14947\n",
      "\n",
      "    accuracy                           0.92    207914\n",
      "   macro avg       0.72      0.80      0.76    207914\n",
      "weighted avg       0.94      0.92      0.93    207914\n",
      "\n"
     ]
    }
   ],
   "source": [
    "treshold_search(y_test, preds_proba_test_lgbm)"
   ]
  },
  {
   "cell_type": "markdown",
   "id": "b5394c84",
   "metadata": {},
   "source": [
    "### ***3) CatBoostClassifier***"
   ]
  },
  {
   "cell_type": "code",
   "execution_count": 73,
   "id": "abbee978",
   "metadata": {},
   "outputs": [],
   "source": [
    "cb_fs_pipe = make_pipeline(\n",
    "    f_prep_pipeline,\n",
    "    SelectFromModel(LogisticRegression(penalty='l2', C=5.0, random_state=42)),\n",
    "    CatBoostClassifier(random_state=42)\n",
    ")"
   ]
  },
  {
   "cell_type": "code",
   "execution_count": 74,
   "id": "236ef2bd",
   "metadata": {},
   "outputs": [
    {
     "name": "stdout",
     "output_type": "stream",
     "text": [
      "Learning rate set to 0.5\n",
      "0:\tlearn: 0.4009584\ttotal: 229ms\tremaining: 2.06s\n",
      "1:\tlearn: 0.3483566\ttotal: 291ms\tremaining: 1.16s\n",
      "2:\tlearn: 0.3287738\ttotal: 353ms\tremaining: 823ms\n",
      "3:\tlearn: 0.3261733\ttotal: 416ms\tremaining: 624ms\n",
      "4:\tlearn: 0.3238246\ttotal: 472ms\tremaining: 472ms\n",
      "5:\tlearn: 0.3226356\ttotal: 534ms\tremaining: 356ms\n",
      "6:\tlearn: 0.3221669\ttotal: 595ms\tremaining: 255ms\n",
      "7:\tlearn: 0.3214706\ttotal: 648ms\tremaining: 162ms\n",
      "8:\tlearn: 0.3211213\ttotal: 712ms\tremaining: 79.1ms\n",
      "9:\tlearn: 0.3206024\ttotal: 777ms\tremaining: 0us\n",
      "Best f1 score: 0.89\n",
      "\n",
      "Best parameters set found on development set:\n",
      "\n",
      "{'catboostclassifier__depth': 5, 'catboostclassifier__n_estimators': 10, 'selectfrommodel__threshold': -inf}\n",
      "\n",
      "Grid scores on development set:\n",
      "\n",
      "0.874 (+/-0.002) for {'catboostclassifier__depth': 1, 'catboostclassifier__n_estimators': 10, 'selectfrommodel__threshold': -inf}\n",
      "0.874 (+/-0.002) for {'catboostclassifier__depth': 1, 'catboostclassifier__n_estimators': 10, 'selectfrommodel__threshold': 1e-05}\n",
      "0.882 (+/-0.003) for {'catboostclassifier__depth': 1, 'catboostclassifier__n_estimators': 100, 'selectfrommodel__threshold': -inf}\n",
      "0.881 (+/-0.002) for {'catboostclassifier__depth': 1, 'catboostclassifier__n_estimators': 100, 'selectfrommodel__threshold': 1e-05}\n",
      "0.890 (+/-0.004) for {'catboostclassifier__depth': 5, 'catboostclassifier__n_estimators': 10, 'selectfrommodel__threshold': -inf}\n",
      "0.890 (+/-0.004) for {'catboostclassifier__depth': 5, 'catboostclassifier__n_estimators': 10, 'selectfrommodel__threshold': 1e-05}\n",
      "0.877 (+/-0.007) for {'catboostclassifier__depth': 5, 'catboostclassifier__n_estimators': 100, 'selectfrommodel__threshold': -inf}\n",
      "0.886 (+/-0.003) for {'catboostclassifier__depth': 5, 'catboostclassifier__n_estimators': 100, 'selectfrommodel__threshold': 1e-05}\n",
      "\n",
      "Wall time: 3min 7s\n"
     ]
    }
   ],
   "source": [
    "%%time\n",
    "\n",
    "param_grid = {\n",
    "     'selectfrommodel__threshold': [-np.inf, 1e-05],\n",
    "    'catboostclassifier__depth': [1, 5],\n",
    "    'catboostclassifier__n_estimators': [10, 100]     \n",
    "    }\n",
    "\n",
    "cb_fs_gsc = run_grid_search(cb_fs_pipe, X_train, y_train, param_grid, kfold_cv, scoring='f1')"
   ]
  },
  {
   "cell_type": "markdown",
   "id": "274b4fea",
   "metadata": {},
   "source": [
    "Best f1 score: 0.89\n",
    "\n",
    "Best parameters set found on development set:\n",
    "\n",
    "{'catboostclassifier__depth': 5, 'catboostclassifier__n_estimators': 10, 'selectfrommodel__threshold': -inf}\n",
    "\n",
    "Wall time: 3min 7s"
   ]
  },
  {
   "cell_type": "code",
   "execution_count": 75,
   "id": "11735ee1",
   "metadata": {},
   "outputs": [],
   "source": [
    "cb_fs_pipe = make_pipeline(\n",
    "    f_prep_pipeline,\n",
    "    SelectFromModel(LogisticRegression(penalty='l2', C=5.0, random_state=42)),\n",
    "    CatBoostClassifier(random_state=42, depth=5, n_estimators=10)\n",
    ")"
   ]
  },
  {
   "cell_type": "code",
   "execution_count": 76,
   "id": "d895d62f",
   "metadata": {},
   "outputs": [
    {
     "name": "stdout",
     "output_type": "stream",
     "text": [
      "Learning rate set to 0.5\n",
      "0:\tlearn: 0.4008689\ttotal: 18.2ms\tremaining: 164ms\n",
      "1:\tlearn: 0.3483535\ttotal: 30.6ms\tremaining: 122ms\n",
      "2:\tlearn: 0.3321941\ttotal: 45.3ms\tremaining: 106ms\n",
      "3:\tlearn: 0.3289984\ttotal: 56.8ms\tremaining: 85.3ms\n",
      "4:\tlearn: 0.3267811\ttotal: 68ms\tremaining: 68ms\n",
      "5:\tlearn: 0.3257218\ttotal: 79.8ms\tremaining: 53.2ms\n",
      "6:\tlearn: 0.3245426\ttotal: 92.3ms\tremaining: 39.5ms\n",
      "7:\tlearn: 0.3235613\ttotal: 104ms\tremaining: 26ms\n",
      "8:\tlearn: 0.3229119\ttotal: 116ms\tremaining: 12.9ms\n",
      "9:\tlearn: 0.3226726\ttotal: 148ms\tremaining: 0us\n"
     ]
    },
    {
     "data": {
      "text/plain": [
       "Pipeline(steps=[('pipeline',\n",
       "                 Pipeline(steps=[('columnselector',\n",
       "                                  ColumnSelector(columns=['vas_id', '32', '248',\n",
       "                                                          'day', '244', 'month',\n",
       "                                                          '38', '115', '249',\n",
       "                                                          '193', '132', '3',\n",
       "                                                          '133', '136', '159',\n",
       "                                                          '215', '91', '120',\n",
       "                                                          '116', '216', '17',\n",
       "                                                          '70', '176', '71',\n",
       "                                                          '100', '235', '14',\n",
       "                                                          '170', '80', '227', ...])),\n",
       "                                 ('featureunion',\n",
       "                                  FeatureUnion(transformer_list=[('numeric_features',\n",
       "                                                                  Pipeline(steps=...\n",
       "                                                                                   SimpleImputer(strategy='most_frequent')),\n",
       "                                                                                  ('onehotencoder',\n",
       "                                                                                   OneHotEncoder(handle_unknown='ignore'))])),\n",
       "                                                                 ('boolean_features',\n",
       "                                                                  Pipeline(steps=[('columnselector',\n",
       "                                                                                   ColumnSelector(columns=[]))]))]))])),\n",
       "                ('selectfrommodel',\n",
       "                 SelectFromModel(estimator=LogisticRegression(C=5.0,\n",
       "                                                              random_state=42))),\n",
       "                ('catboostclassifier',\n",
       "                 <catboost.core.CatBoostClassifier object at 0x0000026C5C9A5490>)])"
      ]
     },
     "execution_count": 76,
     "metadata": {},
     "output_type": "execute_result"
    }
   ],
   "source": [
    "cb_fs_pipe.fit(X_train, y_train)"
   ]
  },
  {
   "cell_type": "code",
   "execution_count": 77,
   "id": "611d087f",
   "metadata": {},
   "outputs": [
    {
     "data": {
      "text/plain": [
       "0.8872204174906528"
      ]
     },
     "execution_count": 77,
     "metadata": {},
     "output_type": "execute_result"
    }
   ],
   "source": [
    "preds_train_cb = cb_fs_pipe.predict(X_train)\n",
    "f1_score(y_train, preds_train_cb, average='macro')"
   ]
  },
  {
   "cell_type": "code",
   "execution_count": 78,
   "id": "7c5a24b7",
   "metadata": {},
   "outputs": [
    {
     "data": {
      "text/plain": [
       "0.7135993200467083"
      ]
     },
     "execution_count": 78,
     "metadata": {},
     "output_type": "execute_result"
    }
   ],
   "source": [
    "preds_test_cb = cb_fs_pipe.predict(X_test)\n",
    "f1_score(y_test, preds_test_cb, average='macro')"
   ]
  },
  {
   "cell_type": "code",
   "execution_count": 79,
   "id": "ff528ca3",
   "metadata": {},
   "outputs": [],
   "source": [
    "preds_proba_train_cb = cb_fs_pipe.predict_proba(X_train)"
   ]
  },
  {
   "cell_type": "code",
   "execution_count": 80,
   "id": "6e11ebc7",
   "metadata": {},
   "outputs": [],
   "source": [
    "preds_proba_test_cb = cb_fs_pipe.predict_proba(X_test)"
   ]
  },
  {
   "cell_type": "code",
   "execution_count": 81,
   "id": "fa46feb7",
   "metadata": {},
   "outputs": [
    {
     "name": "stdout",
     "output_type": "stream",
     "text": [
      "Лучшая отсечка : 0.5789473684210527, Метрика F1_macro: 0.8873802198798362\n",
      "================================================================================\n",
      "              precision    recall  f1-score   support\n",
      "\n",
      "         0.0       0.90      0.87      0.88     45239\n",
      "         1.0       0.87      0.91      0.89     45239\n",
      "\n",
      "    accuracy                           0.89     90478\n",
      "   macro avg       0.89      0.89      0.89     90478\n",
      "weighted avg       0.89      0.89      0.89     90478\n",
      "\n"
     ]
    }
   ],
   "source": [
    "treshold_search(y_train, preds_proba_train_cb)"
   ]
  },
  {
   "cell_type": "code",
   "execution_count": 82,
   "id": "803f5941",
   "metadata": {},
   "outputs": [
    {
     "name": "stdout",
     "output_type": "stream",
     "text": [
      "Лучшая отсечка : 0.8421052631578947, Метрика F1_macro: 0.757281422901767\n",
      "================================================================================\n",
      "              precision    recall  f1-score   support\n",
      "\n",
      "         0.0       0.97      0.95      0.96    192967\n",
      "         1.0       0.49      0.65      0.56     14947\n",
      "\n",
      "    accuracy                           0.93    207914\n",
      "   macro avg       0.73      0.80      0.76    207914\n",
      "weighted avg       0.94      0.93      0.93    207914\n",
      "\n"
     ]
    }
   ],
   "source": [
    "treshold_search(y_test, preds_proba_test_cb)"
   ]
  },
  {
   "cell_type": "markdown",
   "id": "f3c9aef6",
   "metadata": {},
   "source": [
    "### Предсказания на тестовой выборке"
   ]
  },
  {
   "cell_type": "markdown",
   "id": "29dc2811",
   "metadata": {},
   "source": [
    "***1) LogisticRegression***"
   ]
  },
  {
   "cell_type": "code",
   "execution_count": 83,
   "id": "764c2b7d",
   "metadata": {},
   "outputs": [],
   "source": [
    "lgr_fs_pipe_final = lgr_gsc.best_estimator_\n",
    "lgr_fs_pipe_final.fit(X_train, y_train)\n",
    "lgr_fs_pred = lgr_fs_pipe_final.predict_proba(X_test)[:, 1]"
   ]
  },
  {
   "cell_type": "code",
   "execution_count": 84,
   "id": "459fb01a",
   "metadata": {},
   "outputs": [
    {
     "name": "stdout",
     "output_type": "stream",
     "text": [
      "              precision    recall  f1-score   support\n",
      "\n",
      "         0.0       0.99      0.84      0.91    192967\n",
      "         1.0       0.31      0.91      0.46     14947\n",
      "\n",
      "    accuracy                           0.85    207914\n",
      "   macro avg       0.65      0.88      0.69    207914\n",
      "weighted avg       0.94      0.85      0.88    207914\n",
      "\n"
     ]
    }
   ],
   "source": [
    "print(classification_report(y_test, lgr_fs_pred > 0.5))"
   ]
  },
  {
   "cell_type": "markdown",
   "id": "44fb582a",
   "metadata": {},
   "source": [
    "***2) LGBMClassifier***"
   ]
  },
  {
   "cell_type": "code",
   "execution_count": 85,
   "id": "4c147b7c",
   "metadata": {},
   "outputs": [],
   "source": [
    "lgbm_fs_pipe_final = lgbm_gsc.best_estimator_\n",
    "lgbm_fs_pipe_final.fit(X_train, y_train)\n",
    "lgbm_fs_pred = lgbm_fs_pipe_final.predict_proba(X_test)[:, 1]"
   ]
  },
  {
   "cell_type": "code",
   "execution_count": 86,
   "id": "c6f1e3c9",
   "metadata": {},
   "outputs": [
    {
     "name": "stdout",
     "output_type": "stream",
     "text": [
      "              precision    recall  f1-score   support\n",
      "\n",
      "         0.0       0.99      0.87      0.93    192967\n",
      "         1.0       0.35      0.91      0.50     14947\n",
      "\n",
      "    accuracy                           0.87    207914\n",
      "   macro avg       0.67      0.89      0.71    207914\n",
      "weighted avg       0.95      0.87      0.89    207914\n",
      "\n"
     ]
    }
   ],
   "source": [
    "print(classification_report(y_test, lgbm_fs_pred > 0.5))"
   ]
  },
  {
   "cell_type": "markdown",
   "id": "934e2232",
   "metadata": {},
   "source": [
    "***4) CatBoostClassifier***"
   ]
  },
  {
   "cell_type": "code",
   "execution_count": 87,
   "id": "75e90e9b",
   "metadata": {},
   "outputs": [
    {
     "name": "stdout",
     "output_type": "stream",
     "text": [
      "Learning rate set to 0.5\n",
      "0:\tlearn: 0.4009584\ttotal: 61.6ms\tremaining: 554ms\n",
      "1:\tlearn: 0.3483566\ttotal: 117ms\tremaining: 469ms\n",
      "2:\tlearn: 0.3287738\ttotal: 182ms\tremaining: 424ms\n",
      "3:\tlearn: 0.3261733\ttotal: 243ms\tremaining: 364ms\n",
      "4:\tlearn: 0.3238246\ttotal: 299ms\tremaining: 299ms\n",
      "5:\tlearn: 0.3226356\ttotal: 361ms\tremaining: 240ms\n",
      "6:\tlearn: 0.3221669\ttotal: 424ms\tremaining: 182ms\n",
      "7:\tlearn: 0.3214706\ttotal: 487ms\tremaining: 122ms\n",
      "8:\tlearn: 0.3211213\ttotal: 547ms\tremaining: 60.8ms\n",
      "9:\tlearn: 0.3206024\ttotal: 611ms\tremaining: 0us\n"
     ]
    }
   ],
   "source": [
    "cb_fs_pipe_final = cb_fs_gsc.best_estimator_\n",
    "cb_fs_pipe_final.fit(X_train, y_train)\n",
    "cb_fs_pred = cb_fs_pipe_final.predict_proba(X_test)[:, 1]"
   ]
  },
  {
   "cell_type": "code",
   "execution_count": 88,
   "id": "9369f7d8",
   "metadata": {},
   "outputs": [
    {
     "name": "stdout",
     "output_type": "stream",
     "text": [
      "              precision    recall  f1-score   support\n",
      "\n",
      "         0.0       0.99      0.87      0.93    192967\n",
      "         1.0       0.35      0.91      0.50     14947\n",
      "\n",
      "    accuracy                           0.87    207914\n",
      "   macro avg       0.67      0.89      0.71    207914\n",
      "weighted avg       0.95      0.87      0.89    207914\n",
      "\n"
     ]
    }
   ],
   "source": [
    "print(classification_report(y_test, cb_fs_pred > 0.5))"
   ]
  },
  {
   "cell_type": "markdown",
   "id": "9c7fd389",
   "metadata": {},
   "source": [
    "### Сравнение моделей"
   ]
  },
  {
   "cell_type": "code",
   "execution_count": 89,
   "id": "69b812c3",
   "metadata": {},
   "outputs": [
    {
     "name": "stdout",
     "output_type": "stream",
     "text": [
      "lgr_fs_pred: AUC_PR = 0.456\n",
      "lgr_fs_pred: AUC_ROC = 0.909\n",
      "lgbm_fs_pred: AUC_PR = 0.558\n",
      "lgbm_fs_pred: AUC_ROC = 0.931\n",
      "cb_fs_pred: AUC_PR = 0.559\n",
      "cb_fs_pred: AUC_ROC = 0.930\n"
     ]
    },
    {
     "data": {
      "image/png": "[encoded data removed]",
      "text/plain": [
       "<Figure size 864x1728 with 2 Axes>"
      ]
     },
     "metadata": {
      "needs_background": "light"
     },
     "output_type": "display_data"
    }
   ],
   "source": [
    "f, (ax1, ax2) = plt.subplots(1, 2, sharey=True)\n",
    "\n",
    "f.set_figheight(24)\n",
    "f.set_figwidth(12)\n",
    "\n",
    "ax1 = plt.subplot(211)\n",
    "ax1.set_title('ROC')\n",
    "ax1.set_xlabel('TPR')\n",
    "ax1.set_ylabel('FPR')\n",
    "\n",
    "ax2 = plt.subplot(212)\n",
    "ax2.set_title('PR')\n",
    "ax2.set_xlabel('Recall')\n",
    "ax2.set_ylabel('Precision')\n",
    "\n",
    "ax1.plot([0, 1], [0, 1], 'k--')\n",
    "\n",
    "fpr, tpr, roc_thresholds = roc_curve(y_test, lgr_fs_pred)\n",
    "precision, recall, pr_thresholds = precision_recall_curve(y_test, lgr_fs_pred)\n",
    "ax1.plot(fpr, tpr, label='lgr_fs_pred', color='b')\n",
    "ax2.plot(recall, precision, label='lgr_fs_pred', color='b')\n",
    "print('lgr_fs_pred: AUC_PR = %.3f' % auc(recall, precision))\n",
    "print('lgr_fs_pred: AUC_ROC = %.3f' % auc(fpr, tpr))\n",
    "\n",
    "fpr, tpr, roc_thresholds = roc_curve(y_test, lgbm_fs_pred)\n",
    "precision, recall, pr_thresholds = precision_recall_curve(y_test, lgbm_fs_pred)\n",
    "ax1.plot(fpr, tpr, label='lgbm_fs_pred', color='g')\n",
    "ax2.plot(recall, precision, label='lgbm_fs_pred', color='g')\n",
    "print('lgbm_fs_pred: AUC_PR = %.3f' % auc(recall, precision))\n",
    "print('lgbm_fs_pred: AUC_ROC = %.3f' % auc(fpr, tpr))\n",
    "\n",
    "fpr, tpr, roc_thresholds = roc_curve(y_test, cb_fs_pred)\n",
    "precision, recall, pr_thresholds = precision_recall_curve(y_test, cb_fs_pred)\n",
    "ax1.plot(fpr, tpr, label='cb_fs_pred', color='purple')\n",
    "ax2.plot(recall, precision, label='cb_fs_pred', color='purple')\n",
    "print('cb_fs_pred: AUC_PR = %.3f' % auc(recall, precision))\n",
    "print('cb_fs_pred: AUC_ROC = %.3f' % auc(fpr, tpr))\n",
    "\n",
    "ax1.legend(loc='lower right')\n",
    "ax2.legend(loc='lower right');"
   ]
  },
  {
   "cell_type": "markdown",
   "id": "b1b4a0de",
   "metadata": {},
   "source": [
    "Лучше себя показали модели: LGBMClassifier и CatBoostClassifier. Выберем LGBMClassifier"
   ]
  },
  {
   "cell_type": "markdown",
   "id": "e82b41ae",
   "metadata": {},
   "source": [
    "**Сохраним модель**"
   ]
  },
  {
   "cell_type": "code",
   "execution_count": 90,
   "id": "39468f44",
   "metadata": {},
   "outputs": [],
   "source": [
    "with open('lgbm_fs_model.pickle', 'wb') as f:\n",
    "    pickle.dump(lgbm_fs_pipe, f, protocol=pickle.HIGHEST_PROTOCOL)"
   ]
  },
  {
   "cell_type": "markdown",
   "id": "b352dbd5",
   "metadata": {},
   "source": [
    "### Предсказание на тестовой выборке"
   ]
  },
  {
   "cell_type": "code",
   "execution_count": 91,
   "id": "6c7a1466",
   "metadata": {},
   "outputs": [
    {
     "data": {
      "text/html": [
       "<div>\n",
       "<style scoped>\n",
       "    .dataframe tbody tr th:only-of-type {\n",
       "        vertical-align: middle;\n",
       "    }\n",
       "\n",
       "    .dataframe tbody tr th {\n",
       "        vertical-align: top;\n",
       "    }\n",
       "\n",
       "    .dataframe thead th {\n",
       "        text-align: right;\n",
       "    }\n",
       "</style>\n",
       "<table border=\"1\" class=\"dataframe\">\n",
       "  <thead>\n",
       "    <tr style=\"text-align: right;\">\n",
       "      <th></th>\n",
       "      <th>id</th>\n",
       "      <th>vas_id</th>\n",
       "      <th>0</th>\n",
       "      <th>1</th>\n",
       "      <th>2</th>\n",
       "      <th>3</th>\n",
       "      <th>4</th>\n",
       "      <th>5</th>\n",
       "      <th>6</th>\n",
       "      <th>7</th>\n",
       "      <th>...</th>\n",
       "      <th>246</th>\n",
       "      <th>247</th>\n",
       "      <th>248</th>\n",
       "      <th>249</th>\n",
       "      <th>250</th>\n",
       "      <th>251</th>\n",
       "      <th>252</th>\n",
       "      <th>day</th>\n",
       "      <th>week</th>\n",
       "      <th>month</th>\n",
       "    </tr>\n",
       "  </thead>\n",
       "  <tbody>\n",
       "    <tr>\n",
       "      <th>0</th>\n",
       "      <td>2905850</td>\n",
       "      <td>5.0</td>\n",
       "      <td>326.93002</td>\n",
       "      <td>227.410890</td>\n",
       "      <td>312.989230</td>\n",
       "      <td>200.2232</td>\n",
       "      <td>307.571750</td>\n",
       "      <td>179.11821</td>\n",
       "      <td>-16.08618</td>\n",
       "      <td>-65.076096</td>\n",
       "      <td>...</td>\n",
       "      <td>-18.630450</td>\n",
       "      <td>-209.74773</td>\n",
       "      <td>-15.832889</td>\n",
       "      <td>-0.694429</td>\n",
       "      <td>-2.175933</td>\n",
       "      <td>-0.45614</td>\n",
       "      <td>0.0</td>\n",
       "      <td>7</td>\n",
       "      <td>1</td>\n",
       "      <td>1</td>\n",
       "    </tr>\n",
       "    <tr>\n",
       "      <th>1</th>\n",
       "      <td>31619</td>\n",
       "      <td>2.0</td>\n",
       "      <td>-96.79997</td>\n",
       "      <td>100.290886</td>\n",
       "      <td>-62.040787</td>\n",
       "      <td>250.9532</td>\n",
       "      <td>-67.458244</td>\n",
       "      <td>229.84820</td>\n",
       "      <td>-16.08618</td>\n",
       "      <td>-65.076096</td>\n",
       "      <td>...</td>\n",
       "      <td>-37.630447</td>\n",
       "      <td>-306.74770</td>\n",
       "      <td>-25.832888</td>\n",
       "      <td>-0.694429</td>\n",
       "      <td>-12.175933</td>\n",
       "      <td>-0.45614</td>\n",
       "      <td>0.0</td>\n",
       "      <td>7</td>\n",
       "      <td>1</td>\n",
       "      <td>1</td>\n",
       "    </tr>\n",
       "    <tr>\n",
       "      <th>2</th>\n",
       "      <td>1427271</td>\n",
       "      <td>6.0</td>\n",
       "      <td>-87.29997</td>\n",
       "      <td>-368.999100</td>\n",
       "      <td>339.439200</td>\n",
       "      <td>48.7332</td>\n",
       "      <td>334.021760</td>\n",
       "      <td>27.62821</td>\n",
       "      <td>-16.08618</td>\n",
       "      <td>-65.076096</td>\n",
       "      <td>...</td>\n",
       "      <td>-37.630447</td>\n",
       "      <td>116.25227</td>\n",
       "      <td>25.167112</td>\n",
       "      <td>-0.694429</td>\n",
       "      <td>38.824066</td>\n",
       "      <td>-0.45614</td>\n",
       "      <td>0.0</td>\n",
       "      <td>7</td>\n",
       "      <td>1</td>\n",
       "      <td>1</td>\n",
       "    </tr>\n",
       "    <tr>\n",
       "      <th>3</th>\n",
       "      <td>2162521</td>\n",
       "      <td>6.0</td>\n",
       "      <td>-96.79997</td>\n",
       "      <td>-20.459112</td>\n",
       "      <td>-110.740780</td>\n",
       "      <td>-34.9368</td>\n",
       "      <td>-116.158250</td>\n",
       "      <td>-56.04179</td>\n",
       "      <td>-16.08618</td>\n",
       "      <td>-65.076096</td>\n",
       "      <td>...</td>\n",
       "      <td>-37.630447</td>\n",
       "      <td>-298.74770</td>\n",
       "      <td>-24.832888</td>\n",
       "      <td>-0.694429</td>\n",
       "      <td>-11.175933</td>\n",
       "      <td>-0.45614</td>\n",
       "      <td>0.0</td>\n",
       "      <td>7</td>\n",
       "      <td>1</td>\n",
       "      <td>1</td>\n",
       "    </tr>\n",
       "  </tbody>\n",
       "</table>\n",
       "<p>4 rows × 258 columns</p>\n",
       "</div>"
      ],
      "text/plain": [
       "        id  vas_id          0           1           2         3           4  \\\n",
       "0  2905850     5.0  326.93002  227.410890  312.989230  200.2232  307.571750   \n",
       "1    31619     2.0  -96.79997  100.290886  -62.040787  250.9532  -67.458244   \n",
       "2  1427271     6.0  -87.29997 -368.999100  339.439200   48.7332  334.021760   \n",
       "3  2162521     6.0  -96.79997  -20.459112 -110.740780  -34.9368 -116.158250   \n",
       "\n",
       "           5         6          7  ...        246        247        248  \\\n",
       "0  179.11821 -16.08618 -65.076096  ... -18.630450 -209.74773 -15.832889   \n",
       "1  229.84820 -16.08618 -65.076096  ... -37.630447 -306.74770 -25.832888   \n",
       "2   27.62821 -16.08618 -65.076096  ... -37.630447  116.25227  25.167112   \n",
       "3  -56.04179 -16.08618 -65.076096  ... -37.630447 -298.74770 -24.832888   \n",
       "\n",
       "        249        250      251  252  day  week  month  \n",
       "0 -0.694429  -2.175933 -0.45614  0.0    7     1      1  \n",
       "1 -0.694429 -12.175933 -0.45614  0.0    7     1      1  \n",
       "2 -0.694429  38.824066 -0.45614  0.0    7     1      1  \n",
       "3 -0.694429 -11.175933 -0.45614  0.0    7     1      1  \n",
       "\n",
       "[4 rows x 258 columns]"
      ]
     },
     "execution_count": 91,
     "metadata": {},
     "output_type": "execute_result"
    }
   ],
   "source": [
    "test_data = pd.read_csv('test_data_features.csv')\n",
    "test_data.head(4)"
   ]
  },
  {
   "cell_type": "code",
   "execution_count": 92,
   "id": "24082d68",
   "metadata": {},
   "outputs": [],
   "source": [
    "with open('lgbm_fs_model.pickle', 'rb') as f:\n",
    "    lg_fs_model =  pickle.load(f)"
   ]
  },
  {
   "cell_type": "code",
   "execution_count": 93,
   "id": "ad1abb93",
   "metadata": {},
   "outputs": [],
   "source": [
    "y_pred = cb_fs_pipe_final.predict_proba(test_data)[:, 1]"
   ]
  },
  {
   "cell_type": "code",
   "execution_count": 94,
   "id": "a0d69e3e",
   "metadata": {},
   "outputs": [],
   "source": [
    "X_test = pd.read_csv('data_test.csv')\n",
    "X_test = X_test.drop('Unnamed: 0', axis=1)"
   ]
  },
  {
   "cell_type": "code",
   "execution_count": 95,
   "id": "51f16811",
   "metadata": {},
   "outputs": [],
   "source": [
    "X_test['target'] = y_pred"
   ]
  },
  {
   "cell_type": "code",
   "execution_count": 96,
   "id": "cb5f8044",
   "metadata": {},
   "outputs": [],
   "source": [
    "X_test.to_csv('answers_test.csv', index=False)"
   ]
  },
  {
   "cell_type": "code",
   "execution_count": 97,
   "id": "fbe3ca15",
   "metadata": {},
   "outputs": [
    {
     "data": {
      "text/html": [
       "<div>\n",
       "<style scoped>\n",
       "    .dataframe tbody tr th:only-of-type {\n",
       "        vertical-align: middle;\n",
       "    }\n",
       "\n",
       "    .dataframe tbody tr th {\n",
       "        vertical-align: top;\n",
       "    }\n",
       "\n",
       "    .dataframe thead th {\n",
       "        text-align: right;\n",
       "    }\n",
       "</style>\n",
       "<table border=\"1\" class=\"dataframe\">\n",
       "  <thead>\n",
       "    <tr style=\"text-align: right;\">\n",
       "      <th></th>\n",
       "      <th>id</th>\n",
       "      <th>vas_id</th>\n",
       "      <th>buy_time</th>\n",
       "      <th>target</th>\n",
       "    </tr>\n",
       "  </thead>\n",
       "  <tbody>\n",
       "    <tr>\n",
       "      <th>0</th>\n",
       "      <td>3130519</td>\n",
       "      <td>2.0</td>\n",
       "      <td>1548018000</td>\n",
       "      <td>0.120780</td>\n",
       "    </tr>\n",
       "    <tr>\n",
       "      <th>1</th>\n",
       "      <td>2000860</td>\n",
       "      <td>4.0</td>\n",
       "      <td>1548018000</td>\n",
       "      <td>0.162518</td>\n",
       "    </tr>\n",
       "    <tr>\n",
       "      <th>2</th>\n",
       "      <td>1099444</td>\n",
       "      <td>2.0</td>\n",
       "      <td>1546808400</td>\n",
       "      <td>0.859271</td>\n",
       "    </tr>\n",
       "    <tr>\n",
       "      <th>3</th>\n",
       "      <td>1343255</td>\n",
       "      <td>5.0</td>\n",
       "      <td>1547413200</td>\n",
       "      <td>0.853432</td>\n",
       "    </tr>\n",
       "  </tbody>\n",
       "</table>\n",
       "</div>"
      ],
      "text/plain": [
       "        id  vas_id    buy_time    target\n",
       "0  3130519     2.0  1548018000  0.120780\n",
       "1  2000860     4.0  1548018000  0.162518\n",
       "2  1099444     2.0  1546808400  0.859271\n",
       "3  1343255     5.0  1547413200  0.853432"
      ]
     },
     "execution_count": 97,
     "metadata": {},
     "output_type": "execute_result"
    }
   ],
   "source": [
    "X_test.head(4)"
   ]
  },
  {
   "cell_type": "code",
   "execution_count": null,
   "id": "c48b8d59",
   "metadata": {},
   "outputs": [],
   "source": []
  }
 ],
 "metadata": {
  "kernelspec": {
   "display_name": "Python 3 (ipykernel)",
   "language": "python",
   "name": "python3"
  },
  "language_info": {
   "codemirror_mode": {
    "name": "ipython",
    "version": 3
   },
   "file_extension": ".py",
   "mimetype": "text/x-python",
   "name": "python",
   "nbconvert_exporter": "python",
   "pygments_lexer": "ipython3",
   "version": "3.9.7"
  }
 },
 "nbformat": 4,
 "nbformat_minor": 5
}
